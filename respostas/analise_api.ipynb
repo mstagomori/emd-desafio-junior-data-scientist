{
  "nbformat": 4,
  "nbformat_minor": 0,
  "metadata": {
    "colab": {
      "provenance": [],
      "authorship_tag": "ABX9TyPsXqtXNU3+B9PhIQKzhUMh",
      "include_colab_link": true
    },
    "kernelspec": {
      "name": "python3",
      "display_name": "Python 3"
    },
    "language_info": {
      "name": "python"
    }
  },
  "cells": [
    {
      "cell_type": "markdown",
      "metadata": {
        "id": "view-in-github",
        "colab_type": "text"
      },
      "source": [
        "<a href=\"https://colab.research.google.com/github/mstagomori/emd-desafio-junior-data-scientist/blob/main/respostas/analise_api.ipynb\" target=\"_parent\"><img src=\"https://colab.research.google.com/assets/colab-badge.svg\" alt=\"Open In Colab\"/></a>"
      ]
    },
    {
      "cell_type": "markdown",
      "source": [
        "# Desafio Técnico em Python - API"
      ],
      "metadata": {
        "id": "O_TunE5AJFIo"
      }
    },
    {
      "cell_type": "markdown",
      "source": [
        "## Importando APIs e Bibliotecas"
      ],
      "metadata": {
        "id": "unGG35MqKJj_"
      }
    },
    {
      "cell_type": "code",
      "source": [
        "import pandas as pd\n",
        "import numpy as np\n",
        "import requests\n",
        "import json\n",
        "import plotly.express as px\n",
        "import datetime\n",
        "import calendar\n",
        "\n",
        "# Open-Meteo Historical Weather API\n",
        "\n",
        "!pip install openmeteo-requests -q\n",
        "!pip install requests-cache retry-requests numpy pandas -q\n",
        "import openmeteo_requests\n",
        "import requests_cache\n",
        "from retry_requests import retry"
      ],
      "metadata": {
        "id": "dlHmjo9sM3uE"
      },
      "execution_count": 1,
      "outputs": []
    },
    {
      "cell_type": "markdown",
      "source": [
        "## Utilitários"
      ],
      "metadata": {
        "id": "fMRQ1kEhxQnM"
      }
    },
    {
      "cell_type": "code",
      "source": [
        "# Plota gráfico de barras\n",
        "def plot_bar(data, x, y, color, text, title, subtitle, labels, color_discrete_sequence=None, orientation='v'):\n",
        "  fig = px.bar(data,\n",
        "               x = x,\n",
        "               y = y,\n",
        "               color = color,\n",
        "               text = text,\n",
        "               title=title + f' <br><sup>{subtitle}</sup>',\n",
        "               labels=labels,\n",
        "               color_discrete_sequence=color_discrete_sequence)\n",
        "  fig.update_traces(textposition='outside', showlegend=False)\n",
        "  fig.update_layout(width=1080, bargap=0.2)\n",
        "  fig.show()"
      ],
      "metadata": {
        "id": "rH7bmZxgxTEd"
      },
      "execution_count": 2,
      "outputs": []
    },
    {
      "cell_type": "code",
      "source": [
        "# Cores para visualização\n",
        "BLUE_HIGHLIGHT = \"#3d87ff\"\n",
        "LIGHT_GRAY = \"#9b9b9b\""
      ],
      "metadata": {
        "id": "QU0_ssvgz7lc"
      },
      "execution_count": 3,
      "outputs": []
    },
    {
      "cell_type": "markdown",
      "source": [
        "## Pergunta 1: Quantos feriados há no Brasil em todo o ano de 2024?"
      ],
      "metadata": {
        "id": "9Py-zIIDtEn3"
      }
    },
    {
      "cell_type": "code",
      "source": [
        "response = requests.get('https://date.nager.at/api/v3/publicholidays/2024/BR')\n",
        "feriados = json.loads(response.content)\n",
        "\n",
        "print(f'Há {len(feriados)} feriados no Brasil em todo o ano de 2024')"
      ],
      "metadata": {
        "colab": {
          "base_uri": "https://localhost:8080/"
        },
        "id": "Rybwui98tHkZ",
        "outputId": "2677a8a3-bdd3-49e6-94cb-2b9860ad637c"
      },
      "execution_count": 7,
      "outputs": [
        {
          "output_type": "stream",
          "name": "stdout",
          "text": [
            "Há 14 feriados no Brasil em todo o ano de 2024\n"
          ]
        }
      ]
    },
    {
      "cell_type": "markdown",
      "source": [
        "## Pergunta 2: Qual mês de 2024 tem o maior número de feriados?"
      ],
      "metadata": {
        "id": "lHJnqWqytiKm"
      }
    },
    {
      "cell_type": "code",
      "source": [
        "def get_month(date):\n",
        "  return date.split('-')[1]\n",
        "\n",
        "def get_holidays_by_month(feriados):\n",
        "  feriados_por_mes = {}\n",
        "  for feriado in feriados:\n",
        "    mes = calendar.month_name[int(get_month(feriado['date']))]\n",
        "    if mes in feriados_por_mes:\n",
        "      feriados_por_mes[mes] += 1\n",
        "    else:\n",
        "      feriados_por_mes[mes] = 1\n",
        "  return feriados_por_mes\n",
        "\n",
        "\n",
        "\n",
        "feriados_por_mes = get_holidays_by_month(feriados)\n",
        "\n",
        "df_feriados_por_mes = pd.DataFrame(list(feriados_por_mes.items()), columns=['mes', 'feriados'])\n",
        "\n",
        "plot_bar(data=df_feriados_por_mes,\n",
        "         x='mes',\n",
        "         y='feriados',\n",
        "         color='mes',\n",
        "         text='feriados',\n",
        "         title='Feriados por Mês 2024',\n",
        "         subtitle='Fevereiro, Março, Maio e Novembro são os meses com mais feriados em 2024',\n",
        "         labels={'mes': 'Mês', 'feriados': 'Feriados'},\n",
        "         color_discrete_sequence=[LIGHT_GRAY, BLUE_HIGHLIGHT, BLUE_HIGHLIGHT, LIGHT_GRAY, BLUE_HIGHLIGHT, LIGHT_GRAY, LIGHT_GRAY, LIGHT_GRAY, BLUE_HIGHLIGHT, LIGHT_GRAY]\n",
        "         )"
      ],
      "metadata": {
        "colab": {
          "base_uri": "https://localhost:8080/",
          "height": 542
        },
        "id": "e4du3cR-tSHK",
        "outputId": "f1d1d514-e029-4402-805b-ba4d47f1bab7"
      },
      "execution_count": 8,
      "outputs": [
        {
          "output_type": "display_data",
          "data": {
            "text/html": [
              "<html>\n",
              "<head><meta charset=\"utf-8\" /></head>\n",
              "<body>\n",
              "    <div>            <script src=\"https://cdnjs.cloudflare.com/ajax/libs/mathjax/2.7.5/MathJax.js?config=TeX-AMS-MML_SVG\"></script><script type=\"text/javascript\">if (window.MathJax && window.MathJax.Hub && window.MathJax.Hub.Config) {window.MathJax.Hub.Config({SVG: {font: \"STIX-Web\"}});}</script>                <script type=\"text/javascript\">window.PlotlyConfig = {MathJaxConfig: 'local'};</script>\n",
              "        <script charset=\"utf-8\" src=\"https://cdn.plot.ly/plotly-2.24.1.min.js\"></script>                <div id=\"d6457613-e9f1-4c8e-9adf-3b00b27cdd92\" class=\"plotly-graph-div\" style=\"height:525px; width:1080px;\"></div>            <script type=\"text/javascript\">                                    window.PLOTLYENV=window.PLOTLYENV || {};                                    if (document.getElementById(\"d6457613-e9f1-4c8e-9adf-3b00b27cdd92\")) {                    Plotly.newPlot(                        \"d6457613-e9f1-4c8e-9adf-3b00b27cdd92\",                        [{\"alignmentgroup\":\"True\",\"hovertemplate\":\"M\\u00eas=%{x}\\u003cbr\\u003eFeriados=%{text}\\u003cextra\\u003e\\u003c\\u002fextra\\u003e\",\"legendgroup\":\"January\",\"marker\":{\"color\":\"#9b9b9b\",\"pattern\":{\"shape\":\"\"}},\"name\":\"January\",\"offsetgroup\":\"January\",\"orientation\":\"v\",\"showlegend\":false,\"text\":[1.0],\"textposition\":\"outside\",\"x\":[\"January\"],\"xaxis\":\"x\",\"y\":[1],\"yaxis\":\"y\",\"type\":\"bar\"},{\"alignmentgroup\":\"True\",\"hovertemplate\":\"M\\u00eas=%{x}\\u003cbr\\u003eFeriados=%{text}\\u003cextra\\u003e\\u003c\\u002fextra\\u003e\",\"legendgroup\":\"February\",\"marker\":{\"color\":\"#3d87ff\",\"pattern\":{\"shape\":\"\"}},\"name\":\"February\",\"offsetgroup\":\"February\",\"orientation\":\"v\",\"showlegend\":false,\"text\":[2.0],\"textposition\":\"outside\",\"x\":[\"February\"],\"xaxis\":\"x\",\"y\":[2],\"yaxis\":\"y\",\"type\":\"bar\"},{\"alignmentgroup\":\"True\",\"hovertemplate\":\"M\\u00eas=%{x}\\u003cbr\\u003eFeriados=%{text}\\u003cextra\\u003e\\u003c\\u002fextra\\u003e\",\"legendgroup\":\"March\",\"marker\":{\"color\":\"#3d87ff\",\"pattern\":{\"shape\":\"\"}},\"name\":\"March\",\"offsetgroup\":\"March\",\"orientation\":\"v\",\"showlegend\":false,\"text\":[2.0],\"textposition\":\"outside\",\"x\":[\"March\"],\"xaxis\":\"x\",\"y\":[2],\"yaxis\":\"y\",\"type\":\"bar\"},{\"alignmentgroup\":\"True\",\"hovertemplate\":\"M\\u00eas=%{x}\\u003cbr\\u003eFeriados=%{text}\\u003cextra\\u003e\\u003c\\u002fextra\\u003e\",\"legendgroup\":\"April\",\"marker\":{\"color\":\"#9b9b9b\",\"pattern\":{\"shape\":\"\"}},\"name\":\"April\",\"offsetgroup\":\"April\",\"orientation\":\"v\",\"showlegend\":false,\"text\":[1.0],\"textposition\":\"outside\",\"x\":[\"April\"],\"xaxis\":\"x\",\"y\":[1],\"yaxis\":\"y\",\"type\":\"bar\"},{\"alignmentgroup\":\"True\",\"hovertemplate\":\"M\\u00eas=%{x}\\u003cbr\\u003eFeriados=%{text}\\u003cextra\\u003e\\u003c\\u002fextra\\u003e\",\"legendgroup\":\"May\",\"marker\":{\"color\":\"#3d87ff\",\"pattern\":{\"shape\":\"\"}},\"name\":\"May\",\"offsetgroup\":\"May\",\"orientation\":\"v\",\"showlegend\":false,\"text\":[2.0],\"textposition\":\"outside\",\"x\":[\"May\"],\"xaxis\":\"x\",\"y\":[2],\"yaxis\":\"y\",\"type\":\"bar\"},{\"alignmentgroup\":\"True\",\"hovertemplate\":\"M\\u00eas=%{x}\\u003cbr\\u003eFeriados=%{text}\\u003cextra\\u003e\\u003c\\u002fextra\\u003e\",\"legendgroup\":\"July\",\"marker\":{\"color\":\"#9b9b9b\",\"pattern\":{\"shape\":\"\"}},\"name\":\"July\",\"offsetgroup\":\"July\",\"orientation\":\"v\",\"showlegend\":false,\"text\":[1.0],\"textposition\":\"outside\",\"x\":[\"July\"],\"xaxis\":\"x\",\"y\":[1],\"yaxis\":\"y\",\"type\":\"bar\"},{\"alignmentgroup\":\"True\",\"hovertemplate\":\"M\\u00eas=%{x}\\u003cbr\\u003eFeriados=%{text}\\u003cextra\\u003e\\u003c\\u002fextra\\u003e\",\"legendgroup\":\"September\",\"marker\":{\"color\":\"#9b9b9b\",\"pattern\":{\"shape\":\"\"}},\"name\":\"September\",\"offsetgroup\":\"September\",\"orientation\":\"v\",\"showlegend\":false,\"text\":[1.0],\"textposition\":\"outside\",\"x\":[\"September\"],\"xaxis\":\"x\",\"y\":[1],\"yaxis\":\"y\",\"type\":\"bar\"},{\"alignmentgroup\":\"True\",\"hovertemplate\":\"M\\u00eas=%{x}\\u003cbr\\u003eFeriados=%{text}\\u003cextra\\u003e\\u003c\\u002fextra\\u003e\",\"legendgroup\":\"October\",\"marker\":{\"color\":\"#9b9b9b\",\"pattern\":{\"shape\":\"\"}},\"name\":\"October\",\"offsetgroup\":\"October\",\"orientation\":\"v\",\"showlegend\":false,\"text\":[1.0],\"textposition\":\"outside\",\"x\":[\"October\"],\"xaxis\":\"x\",\"y\":[1],\"yaxis\":\"y\",\"type\":\"bar\"},{\"alignmentgroup\":\"True\",\"hovertemplate\":\"M\\u00eas=%{x}\\u003cbr\\u003eFeriados=%{text}\\u003cextra\\u003e\\u003c\\u002fextra\\u003e\",\"legendgroup\":\"November\",\"marker\":{\"color\":\"#3d87ff\",\"pattern\":{\"shape\":\"\"}},\"name\":\"November\",\"offsetgroup\":\"November\",\"orientation\":\"v\",\"showlegend\":false,\"text\":[2.0],\"textposition\":\"outside\",\"x\":[\"November\"],\"xaxis\":\"x\",\"y\":[2],\"yaxis\":\"y\",\"type\":\"bar\"},{\"alignmentgroup\":\"True\",\"hovertemplate\":\"M\\u00eas=%{x}\\u003cbr\\u003eFeriados=%{text}\\u003cextra\\u003e\\u003c\\u002fextra\\u003e\",\"legendgroup\":\"December\",\"marker\":{\"color\":\"#9b9b9b\",\"pattern\":{\"shape\":\"\"}},\"name\":\"December\",\"offsetgroup\":\"December\",\"orientation\":\"v\",\"showlegend\":false,\"text\":[1.0],\"textposition\":\"outside\",\"x\":[\"December\"],\"xaxis\":\"x\",\"y\":[1],\"yaxis\":\"y\",\"type\":\"bar\"}],                        {\"template\":{\"data\":{\"histogram2dcontour\":[{\"type\":\"histogram2dcontour\",\"colorbar\":{\"outlinewidth\":0,\"ticks\":\"\"},\"colorscale\":[[0.0,\"#0d0887\"],[0.1111111111111111,\"#46039f\"],[0.2222222222222222,\"#7201a8\"],[0.3333333333333333,\"#9c179e\"],[0.4444444444444444,\"#bd3786\"],[0.5555555555555556,\"#d8576b\"],[0.6666666666666666,\"#ed7953\"],[0.7777777777777778,\"#fb9f3a\"],[0.8888888888888888,\"#fdca26\"],[1.0,\"#f0f921\"]]}],\"choropleth\":[{\"type\":\"choropleth\",\"colorbar\":{\"outlinewidth\":0,\"ticks\":\"\"}}],\"histogram2d\":[{\"type\":\"histogram2d\",\"colorbar\":{\"outlinewidth\":0,\"ticks\":\"\"},\"colorscale\":[[0.0,\"#0d0887\"],[0.1111111111111111,\"#46039f\"],[0.2222222222222222,\"#7201a8\"],[0.3333333333333333,\"#9c179e\"],[0.4444444444444444,\"#bd3786\"],[0.5555555555555556,\"#d8576b\"],[0.6666666666666666,\"#ed7953\"],[0.7777777777777778,\"#fb9f3a\"],[0.8888888888888888,\"#fdca26\"],[1.0,\"#f0f921\"]]}],\"heatmap\":[{\"type\":\"heatmap\",\"colorbar\":{\"outlinewidth\":0,\"ticks\":\"\"},\"colorscale\":[[0.0,\"#0d0887\"],[0.1111111111111111,\"#46039f\"],[0.2222222222222222,\"#7201a8\"],[0.3333333333333333,\"#9c179e\"],[0.4444444444444444,\"#bd3786\"],[0.5555555555555556,\"#d8576b\"],[0.6666666666666666,\"#ed7953\"],[0.7777777777777778,\"#fb9f3a\"],[0.8888888888888888,\"#fdca26\"],[1.0,\"#f0f921\"]]}],\"heatmapgl\":[{\"type\":\"heatmapgl\",\"colorbar\":{\"outlinewidth\":0,\"ticks\":\"\"},\"colorscale\":[[0.0,\"#0d0887\"],[0.1111111111111111,\"#46039f\"],[0.2222222222222222,\"#7201a8\"],[0.3333333333333333,\"#9c179e\"],[0.4444444444444444,\"#bd3786\"],[0.5555555555555556,\"#d8576b\"],[0.6666666666666666,\"#ed7953\"],[0.7777777777777778,\"#fb9f3a\"],[0.8888888888888888,\"#fdca26\"],[1.0,\"#f0f921\"]]}],\"contourcarpet\":[{\"type\":\"contourcarpet\",\"colorbar\":{\"outlinewidth\":0,\"ticks\":\"\"}}],\"contour\":[{\"type\":\"contour\",\"colorbar\":{\"outlinewidth\":0,\"ticks\":\"\"},\"colorscale\":[[0.0,\"#0d0887\"],[0.1111111111111111,\"#46039f\"],[0.2222222222222222,\"#7201a8\"],[0.3333333333333333,\"#9c179e\"],[0.4444444444444444,\"#bd3786\"],[0.5555555555555556,\"#d8576b\"],[0.6666666666666666,\"#ed7953\"],[0.7777777777777778,\"#fb9f3a\"],[0.8888888888888888,\"#fdca26\"],[1.0,\"#f0f921\"]]}],\"surface\":[{\"type\":\"surface\",\"colorbar\":{\"outlinewidth\":0,\"ticks\":\"\"},\"colorscale\":[[0.0,\"#0d0887\"],[0.1111111111111111,\"#46039f\"],[0.2222222222222222,\"#7201a8\"],[0.3333333333333333,\"#9c179e\"],[0.4444444444444444,\"#bd3786\"],[0.5555555555555556,\"#d8576b\"],[0.6666666666666666,\"#ed7953\"],[0.7777777777777778,\"#fb9f3a\"],[0.8888888888888888,\"#fdca26\"],[1.0,\"#f0f921\"]]}],\"mesh3d\":[{\"type\":\"mesh3d\",\"colorbar\":{\"outlinewidth\":0,\"ticks\":\"\"}}],\"scatter\":[{\"fillpattern\":{\"fillmode\":\"overlay\",\"size\":10,\"solidity\":0.2},\"type\":\"scatter\"}],\"parcoords\":[{\"type\":\"parcoords\",\"line\":{\"colorbar\":{\"outlinewidth\":0,\"ticks\":\"\"}}}],\"scatterpolargl\":[{\"type\":\"scatterpolargl\",\"marker\":{\"colorbar\":{\"outlinewidth\":0,\"ticks\":\"\"}}}],\"bar\":[{\"error_x\":{\"color\":\"#2a3f5f\"},\"error_y\":{\"color\":\"#2a3f5f\"},\"marker\":{\"line\":{\"color\":\"#E5ECF6\",\"width\":0.5},\"pattern\":{\"fillmode\":\"overlay\",\"size\":10,\"solidity\":0.2}},\"type\":\"bar\"}],\"scattergeo\":[{\"type\":\"scattergeo\",\"marker\":{\"colorbar\":{\"outlinewidth\":0,\"ticks\":\"\"}}}],\"scatterpolar\":[{\"type\":\"scatterpolar\",\"marker\":{\"colorbar\":{\"outlinewidth\":0,\"ticks\":\"\"}}}],\"histogram\":[{\"marker\":{\"pattern\":{\"fillmode\":\"overlay\",\"size\":10,\"solidity\":0.2}},\"type\":\"histogram\"}],\"scattergl\":[{\"type\":\"scattergl\",\"marker\":{\"colorbar\":{\"outlinewidth\":0,\"ticks\":\"\"}}}],\"scatter3d\":[{\"type\":\"scatter3d\",\"line\":{\"colorbar\":{\"outlinewidth\":0,\"ticks\":\"\"}},\"marker\":{\"colorbar\":{\"outlinewidth\":0,\"ticks\":\"\"}}}],\"scattermapbox\":[{\"type\":\"scattermapbox\",\"marker\":{\"colorbar\":{\"outlinewidth\":0,\"ticks\":\"\"}}}],\"scatterternary\":[{\"type\":\"scatterternary\",\"marker\":{\"colorbar\":{\"outlinewidth\":0,\"ticks\":\"\"}}}],\"scattercarpet\":[{\"type\":\"scattercarpet\",\"marker\":{\"colorbar\":{\"outlinewidth\":0,\"ticks\":\"\"}}}],\"carpet\":[{\"aaxis\":{\"endlinecolor\":\"#2a3f5f\",\"gridcolor\":\"white\",\"linecolor\":\"white\",\"minorgridcolor\":\"white\",\"startlinecolor\":\"#2a3f5f\"},\"baxis\":{\"endlinecolor\":\"#2a3f5f\",\"gridcolor\":\"white\",\"linecolor\":\"white\",\"minorgridcolor\":\"white\",\"startlinecolor\":\"#2a3f5f\"},\"type\":\"carpet\"}],\"table\":[{\"cells\":{\"fill\":{\"color\":\"#EBF0F8\"},\"line\":{\"color\":\"white\"}},\"header\":{\"fill\":{\"color\":\"#C8D4E3\"},\"line\":{\"color\":\"white\"}},\"type\":\"table\"}],\"barpolar\":[{\"marker\":{\"line\":{\"color\":\"#E5ECF6\",\"width\":0.5},\"pattern\":{\"fillmode\":\"overlay\",\"size\":10,\"solidity\":0.2}},\"type\":\"barpolar\"}],\"pie\":[{\"automargin\":true,\"type\":\"pie\"}]},\"layout\":{\"autotypenumbers\":\"strict\",\"colorway\":[\"#636efa\",\"#EF553B\",\"#00cc96\",\"#ab63fa\",\"#FFA15A\",\"#19d3f3\",\"#FF6692\",\"#B6E880\",\"#FF97FF\",\"#FECB52\"],\"font\":{\"color\":\"#2a3f5f\"},\"hovermode\":\"closest\",\"hoverlabel\":{\"align\":\"left\"},\"paper_bgcolor\":\"white\",\"plot_bgcolor\":\"#E5ECF6\",\"polar\":{\"bgcolor\":\"#E5ECF6\",\"angularaxis\":{\"gridcolor\":\"white\",\"linecolor\":\"white\",\"ticks\":\"\"},\"radialaxis\":{\"gridcolor\":\"white\",\"linecolor\":\"white\",\"ticks\":\"\"}},\"ternary\":{\"bgcolor\":\"#E5ECF6\",\"aaxis\":{\"gridcolor\":\"white\",\"linecolor\":\"white\",\"ticks\":\"\"},\"baxis\":{\"gridcolor\":\"white\",\"linecolor\":\"white\",\"ticks\":\"\"},\"caxis\":{\"gridcolor\":\"white\",\"linecolor\":\"white\",\"ticks\":\"\"}},\"coloraxis\":{\"colorbar\":{\"outlinewidth\":0,\"ticks\":\"\"}},\"colorscale\":{\"sequential\":[[0.0,\"#0d0887\"],[0.1111111111111111,\"#46039f\"],[0.2222222222222222,\"#7201a8\"],[0.3333333333333333,\"#9c179e\"],[0.4444444444444444,\"#bd3786\"],[0.5555555555555556,\"#d8576b\"],[0.6666666666666666,\"#ed7953\"],[0.7777777777777778,\"#fb9f3a\"],[0.8888888888888888,\"#fdca26\"],[1.0,\"#f0f921\"]],\"sequentialminus\":[[0.0,\"#0d0887\"],[0.1111111111111111,\"#46039f\"],[0.2222222222222222,\"#7201a8\"],[0.3333333333333333,\"#9c179e\"],[0.4444444444444444,\"#bd3786\"],[0.5555555555555556,\"#d8576b\"],[0.6666666666666666,\"#ed7953\"],[0.7777777777777778,\"#fb9f3a\"],[0.8888888888888888,\"#fdca26\"],[1.0,\"#f0f921\"]],\"diverging\":[[0,\"#8e0152\"],[0.1,\"#c51b7d\"],[0.2,\"#de77ae\"],[0.3,\"#f1b6da\"],[0.4,\"#fde0ef\"],[0.5,\"#f7f7f7\"],[0.6,\"#e6f5d0\"],[0.7,\"#b8e186\"],[0.8,\"#7fbc41\"],[0.9,\"#4d9221\"],[1,\"#276419\"]]},\"xaxis\":{\"gridcolor\":\"white\",\"linecolor\":\"white\",\"ticks\":\"\",\"title\":{\"standoff\":15},\"zerolinecolor\":\"white\",\"automargin\":true,\"zerolinewidth\":2},\"yaxis\":{\"gridcolor\":\"white\",\"linecolor\":\"white\",\"ticks\":\"\",\"title\":{\"standoff\":15},\"zerolinecolor\":\"white\",\"automargin\":true,\"zerolinewidth\":2},\"scene\":{\"xaxis\":{\"backgroundcolor\":\"#E5ECF6\",\"gridcolor\":\"white\",\"linecolor\":\"white\",\"showbackground\":true,\"ticks\":\"\",\"zerolinecolor\":\"white\",\"gridwidth\":2},\"yaxis\":{\"backgroundcolor\":\"#E5ECF6\",\"gridcolor\":\"white\",\"linecolor\":\"white\",\"showbackground\":true,\"ticks\":\"\",\"zerolinecolor\":\"white\",\"gridwidth\":2},\"zaxis\":{\"backgroundcolor\":\"#E5ECF6\",\"gridcolor\":\"white\",\"linecolor\":\"white\",\"showbackground\":true,\"ticks\":\"\",\"zerolinecolor\":\"white\",\"gridwidth\":2}},\"shapedefaults\":{\"line\":{\"color\":\"#2a3f5f\"}},\"annotationdefaults\":{\"arrowcolor\":\"#2a3f5f\",\"arrowhead\":0,\"arrowwidth\":1},\"geo\":{\"bgcolor\":\"white\",\"landcolor\":\"#E5ECF6\",\"subunitcolor\":\"white\",\"showland\":true,\"showlakes\":true,\"lakecolor\":\"white\"},\"title\":{\"x\":0.05},\"mapbox\":{\"style\":\"light\"}}},\"xaxis\":{\"anchor\":\"y\",\"domain\":[0.0,1.0],\"title\":{\"text\":\"M\\u00eas\"},\"categoryorder\":\"array\",\"categoryarray\":[\"January\",\"February\",\"March\",\"April\",\"May\",\"July\",\"September\",\"October\",\"November\",\"December\"]},\"yaxis\":{\"anchor\":\"x\",\"domain\":[0.0,1.0],\"title\":{\"text\":\"Feriados\"}},\"legend\":{\"title\":{\"text\":\"M\\u00eas\"},\"tracegroupgap\":0},\"title\":{\"text\":\"Feriados por M\\u00eas 2024 \\u003cbr\\u003e\\u003csup\\u003eFevereiro, Mar\\u00e7o, Maio e Novembro s\\u00e3o os meses com mais feriados em 2024\\u003c\\u002fsup\\u003e\"},\"barmode\":\"relative\",\"width\":1080,\"bargap\":0.2},                        {\"responsive\": true}                    ).then(function(){\n",
              "                            \n",
              "var gd = document.getElementById('d6457613-e9f1-4c8e-9adf-3b00b27cdd92');\n",
              "var x = new MutationObserver(function (mutations, observer) {{\n",
              "        var display = window.getComputedStyle(gd).display;\n",
              "        if (!display || display === 'none') {{\n",
              "            console.log([gd, 'removed!']);\n",
              "            Plotly.purge(gd);\n",
              "            observer.disconnect();\n",
              "        }}\n",
              "}});\n",
              "\n",
              "// Listen for the removal of the full notebook cells\n",
              "var notebookContainer = gd.closest('#notebook-container');\n",
              "if (notebookContainer) {{\n",
              "    x.observe(notebookContainer, {childList: true});\n",
              "}}\n",
              "\n",
              "// Listen for the clearing of the current output cell\n",
              "var outputEl = gd.closest('.output');\n",
              "if (outputEl) {{\n",
              "    x.observe(outputEl, {childList: true});\n",
              "}}\n",
              "\n",
              "                        })                };                            </script>        </div>\n",
              "</body>\n",
              "</html>"
            ]
          },
          "metadata": {}
        }
      ]
    },
    {
      "cell_type": "markdown",
      "source": [
        "## Pergunta 3: Quantos feriados em 2024 caem em dias de semana (segunda a sexta-feira)?\n",
        "\n"
      ],
      "metadata": {
        "id": "aJX2gPAy0Lf_"
      }
    },
    {
      "cell_type": "code",
      "source": [
        "import datetime\n",
        "\n",
        "# Retorna True se date é dia da semana e False caso contrário\n",
        "def is_weekday(date):\n",
        "  date_obj = datetime.datetime.strptime(date, '%Y-%m-%d')\n",
        "  day_of_week = date_obj.weekday()\n",
        "  return 0 <= day_of_week <= 4  # Monday (0) to Friday (4)\n",
        "\n",
        "# Adiciona campo weekday a feriados para diferenciar feriados que caem em dia da semana\n",
        "for feriado in feriados:\n",
        "  if is_weekday(feriado['date']):\n",
        "    feriado['weekday'] = True\n",
        "  else:\n",
        "    feriado['weekday'] = False\n",
        "\n",
        "# Cria DataFrame de feriados\n",
        "df_feriados = pd.DataFrame(feriados)\n",
        "\n",
        "# Agrupa DataFrame por tipo de dia da semana\n",
        "df_feriados_weekday = df_feriados.groupby('weekday').size().reset_index(name='feriados')\n",
        "\n",
        "# Substitui True por 'Dia de semana' e False por 'Fim de semana'\n",
        "df_feriados_weekday['weekday'] = df_feriados_weekday['weekday'].replace({True: 'Dia de semana', False: 'Fim de semana'})\n",
        "\n",
        "plot_bar(data=df_feriados_weekday,\n",
        "         x='weekday',\n",
        "         y='feriados',\n",
        "         color='weekday',\n",
        "         text='feriados',\n",
        "         title='Feriados em Dias da Semana x Fim de Semana',\n",
        "         subtitle='Nove feriados caem em dias da semana',\n",
        "         labels={'weekday': 'Dia da semana', 'feriados': 'Feriados'},\n",
        "         color_discrete_sequence=[LIGHT_GRAY, BLUE_HIGHLIGHT]\n",
        "         )"
      ],
      "metadata": {
        "colab": {
          "base_uri": "https://localhost:8080/",
          "height": 542
        },
        "id": "fAK_vfCc0OsR",
        "outputId": "29cc986d-259d-4ab5-9059-f6915f0b395d"
      },
      "execution_count": 13,
      "outputs": [
        {
          "output_type": "display_data",
          "data": {
            "text/html": [
              "<html>\n",
              "<head><meta charset=\"utf-8\" /></head>\n",
              "<body>\n",
              "    <div>            <script src=\"https://cdnjs.cloudflare.com/ajax/libs/mathjax/2.7.5/MathJax.js?config=TeX-AMS-MML_SVG\"></script><script type=\"text/javascript\">if (window.MathJax && window.MathJax.Hub && window.MathJax.Hub.Config) {window.MathJax.Hub.Config({SVG: {font: \"STIX-Web\"}});}</script>                <script type=\"text/javascript\">window.PlotlyConfig = {MathJaxConfig: 'local'};</script>\n",
              "        <script charset=\"utf-8\" src=\"https://cdn.plot.ly/plotly-2.24.1.min.js\"></script>                <div id=\"a4ff2898-083c-404d-9066-22cceff448b6\" class=\"plotly-graph-div\" style=\"height:525px; width:1080px;\"></div>            <script type=\"text/javascript\">                                    window.PLOTLYENV=window.PLOTLYENV || {};                                    if (document.getElementById(\"a4ff2898-083c-404d-9066-22cceff448b6\")) {                    Plotly.newPlot(                        \"a4ff2898-083c-404d-9066-22cceff448b6\",                        [{\"alignmentgroup\":\"True\",\"hovertemplate\":\"Dia da semana=%{x}\\u003cbr\\u003eFeriados=%{text}\\u003cextra\\u003e\\u003c\\u002fextra\\u003e\",\"legendgroup\":\"Fim de semana\",\"marker\":{\"color\":\"#9b9b9b\",\"pattern\":{\"shape\":\"\"}},\"name\":\"Fim de semana\",\"offsetgroup\":\"Fim de semana\",\"orientation\":\"v\",\"showlegend\":false,\"text\":[5.0],\"textposition\":\"outside\",\"x\":[\"Fim de semana\"],\"xaxis\":\"x\",\"y\":[5],\"yaxis\":\"y\",\"type\":\"bar\"},{\"alignmentgroup\":\"True\",\"hovertemplate\":\"Dia da semana=%{x}\\u003cbr\\u003eFeriados=%{text}\\u003cextra\\u003e\\u003c\\u002fextra\\u003e\",\"legendgroup\":\"Dia de semana\",\"marker\":{\"color\":\"#3d87ff\",\"pattern\":{\"shape\":\"\"}},\"name\":\"Dia de semana\",\"offsetgroup\":\"Dia de semana\",\"orientation\":\"v\",\"showlegend\":false,\"text\":[9.0],\"textposition\":\"outside\",\"x\":[\"Dia de semana\"],\"xaxis\":\"x\",\"y\":[9],\"yaxis\":\"y\",\"type\":\"bar\"}],                        {\"template\":{\"data\":{\"histogram2dcontour\":[{\"type\":\"histogram2dcontour\",\"colorbar\":{\"outlinewidth\":0,\"ticks\":\"\"},\"colorscale\":[[0.0,\"#0d0887\"],[0.1111111111111111,\"#46039f\"],[0.2222222222222222,\"#7201a8\"],[0.3333333333333333,\"#9c179e\"],[0.4444444444444444,\"#bd3786\"],[0.5555555555555556,\"#d8576b\"],[0.6666666666666666,\"#ed7953\"],[0.7777777777777778,\"#fb9f3a\"],[0.8888888888888888,\"#fdca26\"],[1.0,\"#f0f921\"]]}],\"choropleth\":[{\"type\":\"choropleth\",\"colorbar\":{\"outlinewidth\":0,\"ticks\":\"\"}}],\"histogram2d\":[{\"type\":\"histogram2d\",\"colorbar\":{\"outlinewidth\":0,\"ticks\":\"\"},\"colorscale\":[[0.0,\"#0d0887\"],[0.1111111111111111,\"#46039f\"],[0.2222222222222222,\"#7201a8\"],[0.3333333333333333,\"#9c179e\"],[0.4444444444444444,\"#bd3786\"],[0.5555555555555556,\"#d8576b\"],[0.6666666666666666,\"#ed7953\"],[0.7777777777777778,\"#fb9f3a\"],[0.8888888888888888,\"#fdca26\"],[1.0,\"#f0f921\"]]}],\"heatmap\":[{\"type\":\"heatmap\",\"colorbar\":{\"outlinewidth\":0,\"ticks\":\"\"},\"colorscale\":[[0.0,\"#0d0887\"],[0.1111111111111111,\"#46039f\"],[0.2222222222222222,\"#7201a8\"],[0.3333333333333333,\"#9c179e\"],[0.4444444444444444,\"#bd3786\"],[0.5555555555555556,\"#d8576b\"],[0.6666666666666666,\"#ed7953\"],[0.7777777777777778,\"#fb9f3a\"],[0.8888888888888888,\"#fdca26\"],[1.0,\"#f0f921\"]]}],\"heatmapgl\":[{\"type\":\"heatmapgl\",\"colorbar\":{\"outlinewidth\":0,\"ticks\":\"\"},\"colorscale\":[[0.0,\"#0d0887\"],[0.1111111111111111,\"#46039f\"],[0.2222222222222222,\"#7201a8\"],[0.3333333333333333,\"#9c179e\"],[0.4444444444444444,\"#bd3786\"],[0.5555555555555556,\"#d8576b\"],[0.6666666666666666,\"#ed7953\"],[0.7777777777777778,\"#fb9f3a\"],[0.8888888888888888,\"#fdca26\"],[1.0,\"#f0f921\"]]}],\"contourcarpet\":[{\"type\":\"contourcarpet\",\"colorbar\":{\"outlinewidth\":0,\"ticks\":\"\"}}],\"contour\":[{\"type\":\"contour\",\"colorbar\":{\"outlinewidth\":0,\"ticks\":\"\"},\"colorscale\":[[0.0,\"#0d0887\"],[0.1111111111111111,\"#46039f\"],[0.2222222222222222,\"#7201a8\"],[0.3333333333333333,\"#9c179e\"],[0.4444444444444444,\"#bd3786\"],[0.5555555555555556,\"#d8576b\"],[0.6666666666666666,\"#ed7953\"],[0.7777777777777778,\"#fb9f3a\"],[0.8888888888888888,\"#fdca26\"],[1.0,\"#f0f921\"]]}],\"surface\":[{\"type\":\"surface\",\"colorbar\":{\"outlinewidth\":0,\"ticks\":\"\"},\"colorscale\":[[0.0,\"#0d0887\"],[0.1111111111111111,\"#46039f\"],[0.2222222222222222,\"#7201a8\"],[0.3333333333333333,\"#9c179e\"],[0.4444444444444444,\"#bd3786\"],[0.5555555555555556,\"#d8576b\"],[0.6666666666666666,\"#ed7953\"],[0.7777777777777778,\"#fb9f3a\"],[0.8888888888888888,\"#fdca26\"],[1.0,\"#f0f921\"]]}],\"mesh3d\":[{\"type\":\"mesh3d\",\"colorbar\":{\"outlinewidth\":0,\"ticks\":\"\"}}],\"scatter\":[{\"fillpattern\":{\"fillmode\":\"overlay\",\"size\":10,\"solidity\":0.2},\"type\":\"scatter\"}],\"parcoords\":[{\"type\":\"parcoords\",\"line\":{\"colorbar\":{\"outlinewidth\":0,\"ticks\":\"\"}}}],\"scatterpolargl\":[{\"type\":\"scatterpolargl\",\"marker\":{\"colorbar\":{\"outlinewidth\":0,\"ticks\":\"\"}}}],\"bar\":[{\"error_x\":{\"color\":\"#2a3f5f\"},\"error_y\":{\"color\":\"#2a3f5f\"},\"marker\":{\"line\":{\"color\":\"#E5ECF6\",\"width\":0.5},\"pattern\":{\"fillmode\":\"overlay\",\"size\":10,\"solidity\":0.2}},\"type\":\"bar\"}],\"scattergeo\":[{\"type\":\"scattergeo\",\"marker\":{\"colorbar\":{\"outlinewidth\":0,\"ticks\":\"\"}}}],\"scatterpolar\":[{\"type\":\"scatterpolar\",\"marker\":{\"colorbar\":{\"outlinewidth\":0,\"ticks\":\"\"}}}],\"histogram\":[{\"marker\":{\"pattern\":{\"fillmode\":\"overlay\",\"size\":10,\"solidity\":0.2}},\"type\":\"histogram\"}],\"scattergl\":[{\"type\":\"scattergl\",\"marker\":{\"colorbar\":{\"outlinewidth\":0,\"ticks\":\"\"}}}],\"scatter3d\":[{\"type\":\"scatter3d\",\"line\":{\"colorbar\":{\"outlinewidth\":0,\"ticks\":\"\"}},\"marker\":{\"colorbar\":{\"outlinewidth\":0,\"ticks\":\"\"}}}],\"scattermapbox\":[{\"type\":\"scattermapbox\",\"marker\":{\"colorbar\":{\"outlinewidth\":0,\"ticks\":\"\"}}}],\"scatterternary\":[{\"type\":\"scatterternary\",\"marker\":{\"colorbar\":{\"outlinewidth\":0,\"ticks\":\"\"}}}],\"scattercarpet\":[{\"type\":\"scattercarpet\",\"marker\":{\"colorbar\":{\"outlinewidth\":0,\"ticks\":\"\"}}}],\"carpet\":[{\"aaxis\":{\"endlinecolor\":\"#2a3f5f\",\"gridcolor\":\"white\",\"linecolor\":\"white\",\"minorgridcolor\":\"white\",\"startlinecolor\":\"#2a3f5f\"},\"baxis\":{\"endlinecolor\":\"#2a3f5f\",\"gridcolor\":\"white\",\"linecolor\":\"white\",\"minorgridcolor\":\"white\",\"startlinecolor\":\"#2a3f5f\"},\"type\":\"carpet\"}],\"table\":[{\"cells\":{\"fill\":{\"color\":\"#EBF0F8\"},\"line\":{\"color\":\"white\"}},\"header\":{\"fill\":{\"color\":\"#C8D4E3\"},\"line\":{\"color\":\"white\"}},\"type\":\"table\"}],\"barpolar\":[{\"marker\":{\"line\":{\"color\":\"#E5ECF6\",\"width\":0.5},\"pattern\":{\"fillmode\":\"overlay\",\"size\":10,\"solidity\":0.2}},\"type\":\"barpolar\"}],\"pie\":[{\"automargin\":true,\"type\":\"pie\"}]},\"layout\":{\"autotypenumbers\":\"strict\",\"colorway\":[\"#636efa\",\"#EF553B\",\"#00cc96\",\"#ab63fa\",\"#FFA15A\",\"#19d3f3\",\"#FF6692\",\"#B6E880\",\"#FF97FF\",\"#FECB52\"],\"font\":{\"color\":\"#2a3f5f\"},\"hovermode\":\"closest\",\"hoverlabel\":{\"align\":\"left\"},\"paper_bgcolor\":\"white\",\"plot_bgcolor\":\"#E5ECF6\",\"polar\":{\"bgcolor\":\"#E5ECF6\",\"angularaxis\":{\"gridcolor\":\"white\",\"linecolor\":\"white\",\"ticks\":\"\"},\"radialaxis\":{\"gridcolor\":\"white\",\"linecolor\":\"white\",\"ticks\":\"\"}},\"ternary\":{\"bgcolor\":\"#E5ECF6\",\"aaxis\":{\"gridcolor\":\"white\",\"linecolor\":\"white\",\"ticks\":\"\"},\"baxis\":{\"gridcolor\":\"white\",\"linecolor\":\"white\",\"ticks\":\"\"},\"caxis\":{\"gridcolor\":\"white\",\"linecolor\":\"white\",\"ticks\":\"\"}},\"coloraxis\":{\"colorbar\":{\"outlinewidth\":0,\"ticks\":\"\"}},\"colorscale\":{\"sequential\":[[0.0,\"#0d0887\"],[0.1111111111111111,\"#46039f\"],[0.2222222222222222,\"#7201a8\"],[0.3333333333333333,\"#9c179e\"],[0.4444444444444444,\"#bd3786\"],[0.5555555555555556,\"#d8576b\"],[0.6666666666666666,\"#ed7953\"],[0.7777777777777778,\"#fb9f3a\"],[0.8888888888888888,\"#fdca26\"],[1.0,\"#f0f921\"]],\"sequentialminus\":[[0.0,\"#0d0887\"],[0.1111111111111111,\"#46039f\"],[0.2222222222222222,\"#7201a8\"],[0.3333333333333333,\"#9c179e\"],[0.4444444444444444,\"#bd3786\"],[0.5555555555555556,\"#d8576b\"],[0.6666666666666666,\"#ed7953\"],[0.7777777777777778,\"#fb9f3a\"],[0.8888888888888888,\"#fdca26\"],[1.0,\"#f0f921\"]],\"diverging\":[[0,\"#8e0152\"],[0.1,\"#c51b7d\"],[0.2,\"#de77ae\"],[0.3,\"#f1b6da\"],[0.4,\"#fde0ef\"],[0.5,\"#f7f7f7\"],[0.6,\"#e6f5d0\"],[0.7,\"#b8e186\"],[0.8,\"#7fbc41\"],[0.9,\"#4d9221\"],[1,\"#276419\"]]},\"xaxis\":{\"gridcolor\":\"white\",\"linecolor\":\"white\",\"ticks\":\"\",\"title\":{\"standoff\":15},\"zerolinecolor\":\"white\",\"automargin\":true,\"zerolinewidth\":2},\"yaxis\":{\"gridcolor\":\"white\",\"linecolor\":\"white\",\"ticks\":\"\",\"title\":{\"standoff\":15},\"zerolinecolor\":\"white\",\"automargin\":true,\"zerolinewidth\":2},\"scene\":{\"xaxis\":{\"backgroundcolor\":\"#E5ECF6\",\"gridcolor\":\"white\",\"linecolor\":\"white\",\"showbackground\":true,\"ticks\":\"\",\"zerolinecolor\":\"white\",\"gridwidth\":2},\"yaxis\":{\"backgroundcolor\":\"#E5ECF6\",\"gridcolor\":\"white\",\"linecolor\":\"white\",\"showbackground\":true,\"ticks\":\"\",\"zerolinecolor\":\"white\",\"gridwidth\":2},\"zaxis\":{\"backgroundcolor\":\"#E5ECF6\",\"gridcolor\":\"white\",\"linecolor\":\"white\",\"showbackground\":true,\"ticks\":\"\",\"zerolinecolor\":\"white\",\"gridwidth\":2}},\"shapedefaults\":{\"line\":{\"color\":\"#2a3f5f\"}},\"annotationdefaults\":{\"arrowcolor\":\"#2a3f5f\",\"arrowhead\":0,\"arrowwidth\":1},\"geo\":{\"bgcolor\":\"white\",\"landcolor\":\"#E5ECF6\",\"subunitcolor\":\"white\",\"showland\":true,\"showlakes\":true,\"lakecolor\":\"white\"},\"title\":{\"x\":0.05},\"mapbox\":{\"style\":\"light\"}}},\"xaxis\":{\"anchor\":\"y\",\"domain\":[0.0,1.0],\"title\":{\"text\":\"Dia da semana\"},\"categoryorder\":\"array\",\"categoryarray\":[\"Fim de semana\",\"Dia de semana\"]},\"yaxis\":{\"anchor\":\"x\",\"domain\":[0.0,1.0],\"title\":{\"text\":\"Feriados\"}},\"legend\":{\"title\":{\"text\":\"Dia da semana\"},\"tracegroupgap\":0},\"title\":{\"text\":\"Feriados em Dias da Semana x Fim de Semana \\u003cbr\\u003e\\u003csup\\u003eNove feriados caem em dias da semana\\u003c\\u002fsup\\u003e\"},\"barmode\":\"relative\",\"width\":1080,\"bargap\":0.2},                        {\"responsive\": true}                    ).then(function(){\n",
              "                            \n",
              "var gd = document.getElementById('a4ff2898-083c-404d-9066-22cceff448b6');\n",
              "var x = new MutationObserver(function (mutations, observer) {{\n",
              "        var display = window.getComputedStyle(gd).display;\n",
              "        if (!display || display === 'none') {{\n",
              "            console.log([gd, 'removed!']);\n",
              "            Plotly.purge(gd);\n",
              "            observer.disconnect();\n",
              "        }}\n",
              "}});\n",
              "\n",
              "// Listen for the removal of the full notebook cells\n",
              "var notebookContainer = gd.closest('#notebook-container');\n",
              "if (notebookContainer) {{\n",
              "    x.observe(notebookContainer, {childList: true});\n",
              "}}\n",
              "\n",
              "// Listen for the clearing of the current output cell\n",
              "var outputEl = gd.closest('.output');\n",
              "if (outputEl) {{\n",
              "    x.observe(outputEl, {childList: true});\n",
              "}}\n",
              "\n",
              "                        })                };                            </script>        </div>\n",
              "</body>\n",
              "</html>"
            ]
          },
          "metadata": {}
        }
      ]
    },
    {
      "cell_type": "markdown",
      "source": [
        "## Pergunta 4: Qual foi a temperatura média em cada mês?\n",
        "Utilize a Open-Meteo Historical Weather API para obter as temperaturas médias diárias no Rio de Janeiro de 01/01/2024 a 01/08/2024."
      ],
      "metadata": {
        "id": "ySnljmcRHpYj"
      }
    },
    {
      "cell_type": "code",
      "source": [
        "# Configura o Open-Meteo API, adiciona cache de consultas e configura tentativas em caso de falha na requisição\n",
        "cache_session = requests_cache.CachedSession('.cache', expire_after = -1)\n",
        "retry_session = retry(cache_session, retries = 5, backoff_factor = 0.2)\n",
        "openmeteo = openmeteo_requests.Client(session = retry_session)\n",
        "\n",
        "# Requisitando dados da API\n",
        "url = \"https://archive-api.open-meteo.com/v1/archive\"\n",
        "params = {\n",
        "\t\"latitude\": -22.9064,\n",
        "\t\"longitude\": -43.1822,\n",
        "\t\"start_date\": \"2024-01-01\",\n",
        "\t\"end_date\": \"2024-08-01\",\n",
        "\t\"daily\": [\"weather_code\", \"temperature_2m_mean\"]\n",
        "}\n",
        "responses = openmeteo.weather_api(url, params=params)\n",
        "\n",
        "# Armazena os dados da primeira localidade escolhida (Rio de Janeiro)\n",
        "response = responses[0]\n",
        "\n",
        "# Armazena dados requisitados (Temperatura)\n",
        "daily = response.Daily()\n",
        "daily_weather_code = daily.Variables(0).ValuesAsNumpy()\n",
        "daily_temperature_2m_mean = daily.Variables(1).ValuesAsNumpy()\n",
        "\n",
        "daily_data = {\"date\": pd.date_range(\n",
        "\tstart = pd.to_datetime(daily.Time(), unit = \"s\", utc = True),\n",
        "\tend = pd.to_datetime(daily.TimeEnd(), unit = \"s\", utc = True),\n",
        "\tfreq = pd.Timedelta(seconds = daily.Interval()),\n",
        "\tinclusive = \"left\"\n",
        ")}\n",
        "daily_data[\"weather_code\"] = daily_weather_code\n",
        "daily_data[\"temperature_2m_mean\"] = daily_temperature_2m_mean\n",
        "\n",
        "# Cria DataFrame com as temperaturas médias diárias\n",
        "df_daily = pd.DataFrame(data=daily_data)\n",
        "\n",
        "# Plota gráfico de linha das temperaturas médias diárias\n",
        "fig = px.line(df_daily,\n",
        "              x='date',\n",
        "              y='temperature_2m_mean',\n",
        "              title='Temperatura média diária de 2024 até o mês de Agosto',\n",
        "              labels={'date': 'Data', 'temperature_2m_mean': 'Temperatura Média'}\n",
        "              )\n",
        "fig.update_layout(width=1080)\n",
        "fig.show()"
      ],
      "metadata": {
        "colab": {
          "base_uri": "https://localhost:8080/",
          "height": 611
        },
        "id": "WPZ1vEuzItF-",
        "outputId": "022dcee8-1e77-44f7-a489-7274f0dd158f"
      },
      "execution_count": 86,
      "outputs": [
        {
          "output_type": "stream",
          "name": "stderr",
          "text": [
            "/usr/local/lib/python3.10/dist-packages/_plotly_utils/basevalidators.py:105: FutureWarning:\n",
            "\n",
            "The behavior of DatetimeProperties.to_pydatetime is deprecated, in a future version this will return a Series containing python datetime objects instead of an ndarray. To retain the old behavior, call `np.array` on the result\n",
            "\n"
          ]
        },
        {
          "output_type": "display_data",
          "data": {
            "text/html": [
              "<html>\n",
              "<head><meta charset=\"utf-8\" /></head>\n",
              "<body>\n",
              "    <div>            <script src=\"https://cdnjs.cloudflare.com/ajax/libs/mathjax/2.7.5/MathJax.js?config=TeX-AMS-MML_SVG\"></script><script type=\"text/javascript\">if (window.MathJax && window.MathJax.Hub && window.MathJax.Hub.Config) {window.MathJax.Hub.Config({SVG: {font: \"STIX-Web\"}});}</script>                <script type=\"text/javascript\">window.PlotlyConfig = {MathJaxConfig: 'local'};</script>\n",
              "        <script charset=\"utf-8\" src=\"https://cdn.plot.ly/plotly-2.24.1.min.js\"></script>                <div id=\"70d85663-be0c-4a72-a0fb-c69ceae25119\" class=\"plotly-graph-div\" style=\"height:525px; width:1080px;\"></div>            <script type=\"text/javascript\">                                    window.PLOTLYENV=window.PLOTLYENV || {};                                    if (document.getElementById(\"70d85663-be0c-4a72-a0fb-c69ceae25119\")) {                    Plotly.newPlot(                        \"70d85663-be0c-4a72-a0fb-c69ceae25119\",                        [{\"hovertemplate\":\"Data=%{x}\\u003cbr\\u003eTemperatura M\\u00e9dia=%{y}\\u003cextra\\u003e\\u003c\\u002fextra\\u003e\",\"legendgroup\":\"\",\"line\":{\"color\":\"#636efa\",\"dash\":\"solid\"},\"marker\":{\"symbol\":\"circle\"},\"mode\":\"lines\",\"name\":\"\",\"orientation\":\"v\",\"showlegend\":false,\"x\":[\"2024-01-01T00:00:00+00:00\",\"2024-01-02T00:00:00+00:00\",\"2024-01-03T00:00:00+00:00\",\"2024-01-04T00:00:00+00:00\",\"2024-01-05T00:00:00+00:00\",\"2024-01-06T00:00:00+00:00\",\"2024-01-07T00:00:00+00:00\",\"2024-01-08T00:00:00+00:00\",\"2024-01-09T00:00:00+00:00\",\"2024-01-10T00:00:00+00:00\",\"2024-01-11T00:00:00+00:00\",\"2024-01-12T00:00:00+00:00\",\"2024-01-13T00:00:00+00:00\",\"2024-01-14T00:00:00+00:00\",\"2024-01-15T00:00:00+00:00\",\"2024-01-16T00:00:00+00:00\",\"2024-01-17T00:00:00+00:00\",\"2024-01-18T00:00:00+00:00\",\"2024-01-19T00:00:00+00:00\",\"2024-01-20T00:00:00+00:00\",\"2024-01-21T00:00:00+00:00\",\"2024-01-22T00:00:00+00:00\",\"2024-01-23T00:00:00+00:00\",\"2024-01-24T00:00:00+00:00\",\"2024-01-25T00:00:00+00:00\",\"2024-01-26T00:00:00+00:00\",\"2024-01-27T00:00:00+00:00\",\"2024-01-28T00:00:00+00:00\",\"2024-01-29T00:00:00+00:00\",\"2024-01-30T00:00:00+00:00\",\"2024-01-31T00:00:00+00:00\",\"2024-02-01T00:00:00+00:00\",\"2024-02-02T00:00:00+00:00\",\"2024-02-03T00:00:00+00:00\",\"2024-02-04T00:00:00+00:00\",\"2024-02-05T00:00:00+00:00\",\"2024-02-06T00:00:00+00:00\",\"2024-02-07T00:00:00+00:00\",\"2024-02-08T00:00:00+00:00\",\"2024-02-09T00:00:00+00:00\",\"2024-02-10T00:00:00+00:00\",\"2024-02-11T00:00:00+00:00\",\"2024-02-12T00:00:00+00:00\",\"2024-02-13T00:00:00+00:00\",\"2024-02-14T00:00:00+00:00\",\"2024-02-15T00:00:00+00:00\",\"2024-02-16T00:00:00+00:00\",\"2024-02-17T00:00:00+00:00\",\"2024-02-18T00:00:00+00:00\",\"2024-02-19T00:00:00+00:00\",\"2024-02-20T00:00:00+00:00\",\"2024-02-21T00:00:00+00:00\",\"2024-02-22T00:00:00+00:00\",\"2024-02-23T00:00:00+00:00\",\"2024-02-24T00:00:00+00:00\",\"2024-02-25T00:00:00+00:00\",\"2024-02-26T00:00:00+00:00\",\"2024-02-27T00:00:00+00:00\",\"2024-02-28T00:00:00+00:00\",\"2024-02-29T00:00:00+00:00\",\"2024-03-01T00:00:00+00:00\",\"2024-03-02T00:00:00+00:00\",\"2024-03-03T00:00:00+00:00\",\"2024-03-04T00:00:00+00:00\",\"2024-03-05T00:00:00+00:00\",\"2024-03-06T00:00:00+00:00\",\"2024-03-07T00:00:00+00:00\",\"2024-03-08T00:00:00+00:00\",\"2024-03-09T00:00:00+00:00\",\"2024-03-10T00:00:00+00:00\",\"2024-03-11T00:00:00+00:00\",\"2024-03-12T00:00:00+00:00\",\"2024-03-13T00:00:00+00:00\",\"2024-03-14T00:00:00+00:00\",\"2024-03-15T00:00:00+00:00\",\"2024-03-16T00:00:00+00:00\",\"2024-03-17T00:00:00+00:00\",\"2024-03-18T00:00:00+00:00\",\"2024-03-19T00:00:00+00:00\",\"2024-03-20T00:00:00+00:00\",\"2024-03-21T00:00:00+00:00\",\"2024-03-22T00:00:00+00:00\",\"2024-03-23T00:00:00+00:00\",\"2024-03-24T00:00:00+00:00\",\"2024-03-25T00:00:00+00:00\",\"2024-03-26T00:00:00+00:00\",\"2024-03-27T00:00:00+00:00\",\"2024-03-28T00:00:00+00:00\",\"2024-03-29T00:00:00+00:00\",\"2024-03-30T00:00:00+00:00\",\"2024-03-31T00:00:00+00:00\",\"2024-04-01T00:00:00+00:00\",\"2024-04-02T00:00:00+00:00\",\"2024-04-03T00:00:00+00:00\",\"2024-04-04T00:00:00+00:00\",\"2024-04-05T00:00:00+00:00\",\"2024-04-06T00:00:00+00:00\",\"2024-04-07T00:00:00+00:00\",\"2024-04-08T00:00:00+00:00\",\"2024-04-09T00:00:00+00:00\",\"2024-04-10T00:00:00+00:00\",\"2024-04-11T00:00:00+00:00\",\"2024-04-12T00:00:00+00:00\",\"2024-04-13T00:00:00+00:00\",\"2024-04-14T00:00:00+00:00\",\"2024-04-15T00:00:00+00:00\",\"2024-04-16T00:00:00+00:00\",\"2024-04-17T00:00:00+00:00\",\"2024-04-18T00:00:00+00:00\",\"2024-04-19T00:00:00+00:00\",\"2024-04-20T00:00:00+00:00\",\"2024-04-21T00:00:00+00:00\",\"2024-04-22T00:00:00+00:00\",\"2024-04-23T00:00:00+00:00\",\"2024-04-24T00:00:00+00:00\",\"2024-04-25T00:00:00+00:00\",\"2024-04-26T00:00:00+00:00\",\"2024-04-27T00:00:00+00:00\",\"2024-04-28T00:00:00+00:00\",\"2024-04-29T00:00:00+00:00\",\"2024-04-30T00:00:00+00:00\",\"2024-05-01T00:00:00+00:00\",\"2024-05-02T00:00:00+00:00\",\"2024-05-03T00:00:00+00:00\",\"2024-05-04T00:00:00+00:00\",\"2024-05-05T00:00:00+00:00\",\"2024-05-06T00:00:00+00:00\",\"2024-05-07T00:00:00+00:00\",\"2024-05-08T00:00:00+00:00\",\"2024-05-09T00:00:00+00:00\",\"2024-05-10T00:00:00+00:00\",\"2024-05-11T00:00:00+00:00\",\"2024-05-12T00:00:00+00:00\",\"2024-05-13T00:00:00+00:00\",\"2024-05-14T00:00:00+00:00\",\"2024-05-15T00:00:00+00:00\",\"2024-05-16T00:00:00+00:00\",\"2024-05-17T00:00:00+00:00\",\"2024-05-18T00:00:00+00:00\",\"2024-05-19T00:00:00+00:00\",\"2024-05-20T00:00:00+00:00\",\"2024-05-21T00:00:00+00:00\",\"2024-05-22T00:00:00+00:00\",\"2024-05-23T00:00:00+00:00\",\"2024-05-24T00:00:00+00:00\",\"2024-05-25T00:00:00+00:00\",\"2024-05-26T00:00:00+00:00\",\"2024-05-27T00:00:00+00:00\",\"2024-05-28T00:00:00+00:00\",\"2024-05-29T00:00:00+00:00\",\"2024-05-30T00:00:00+00:00\",\"2024-05-31T00:00:00+00:00\",\"2024-06-01T00:00:00+00:00\",\"2024-06-02T00:00:00+00:00\",\"2024-06-03T00:00:00+00:00\",\"2024-06-04T00:00:00+00:00\",\"2024-06-05T00:00:00+00:00\",\"2024-06-06T00:00:00+00:00\",\"2024-06-07T00:00:00+00:00\",\"2024-06-08T00:00:00+00:00\",\"2024-06-09T00:00:00+00:00\",\"2024-06-10T00:00:00+00:00\",\"2024-06-11T00:00:00+00:00\",\"2024-06-12T00:00:00+00:00\",\"2024-06-13T00:00:00+00:00\",\"2024-06-14T00:00:00+00:00\",\"2024-06-15T00:00:00+00:00\",\"2024-06-16T00:00:00+00:00\",\"2024-06-17T00:00:00+00:00\",\"2024-06-18T00:00:00+00:00\",\"2024-06-19T00:00:00+00:00\",\"2024-06-20T00:00:00+00:00\",\"2024-06-21T00:00:00+00:00\",\"2024-06-22T00:00:00+00:00\",\"2024-06-23T00:00:00+00:00\",\"2024-06-24T00:00:00+00:00\",\"2024-06-25T00:00:00+00:00\",\"2024-06-26T00:00:00+00:00\",\"2024-06-27T00:00:00+00:00\",\"2024-06-28T00:00:00+00:00\",\"2024-06-29T00:00:00+00:00\",\"2024-06-30T00:00:00+00:00\",\"2024-07-01T00:00:00+00:00\",\"2024-07-02T00:00:00+00:00\",\"2024-07-03T00:00:00+00:00\",\"2024-07-04T00:00:00+00:00\",\"2024-07-05T00:00:00+00:00\",\"2024-07-06T00:00:00+00:00\",\"2024-07-07T00:00:00+00:00\",\"2024-07-08T00:00:00+00:00\",\"2024-07-09T00:00:00+00:00\",\"2024-07-10T00:00:00+00:00\",\"2024-07-11T00:00:00+00:00\",\"2024-07-12T00:00:00+00:00\",\"2024-07-13T00:00:00+00:00\",\"2024-07-14T00:00:00+00:00\",\"2024-07-15T00:00:00+00:00\",\"2024-07-16T00:00:00+00:00\",\"2024-07-17T00:00:00+00:00\",\"2024-07-18T00:00:00+00:00\",\"2024-07-19T00:00:00+00:00\",\"2024-07-20T00:00:00+00:00\",\"2024-07-21T00:00:00+00:00\",\"2024-07-22T00:00:00+00:00\",\"2024-07-23T00:00:00+00:00\",\"2024-07-24T00:00:00+00:00\",\"2024-07-25T00:00:00+00:00\",\"2024-07-26T00:00:00+00:00\",\"2024-07-27T00:00:00+00:00\",\"2024-07-28T00:00:00+00:00\",\"2024-07-29T00:00:00+00:00\",\"2024-07-30T00:00:00+00:00\",\"2024-07-31T00:00:00+00:00\",\"2024-08-01T00:00:00+00:00\"],\"xaxis\":\"x\",\"y\":[24.86708641052246,25.71916389465332,26.244165420532227,24.971250534057617,25.17125129699707,25.446250915527344,25.844167709350586,28.46917152404785,29.606666564941406,29.823331832885742,29.562917709350586,28.25458526611328,25.710832595825195,25.2045841217041,28.308753967285156,30.4566707611084,31.306663513183594,29.623334884643555,28.00041961669922,30.2691650390625,26.49833869934082,25.169166564941406,23.635833740234375,21.810834884643555,24.0191650390625,23.858749389648438,24.66291618347168,25.37333106994629,25.896249771118164,26.823335647583008,26.777496337890625,25.8941707611084,25.1420841217041,25.956666946411133,27.14833641052246,27.03999900817871,26.88374900817871,26.619165420532227,27.244169235229492,27.085830688476562,27.39000129699707,28.7712459564209,30.19416618347168,30.565000534057617,27.900419235229492,25.385835647583008,25.421249389648438,25.771249771118164,26.28583335876465,25.883750915527344,25.57124900817871,25.75249671936035,27.417083740234375,28.72333526611328,29.47333335876465,28.25458335876465,26.858755111694336,27.43791961669922,28.75041961669922,28.167081832885742,26.887916564941406,25.68583106994629,25.385833740234375,26.60875129699707,27.823331832885742,25.756668090820312,26.077499389648438,26.429582595825195,27.75666618347168,27.489999771118164,25.856664657592773,25.10041618347168,25.444169998168945,25.90666961669922,27.5483341217041,29.440000534057617,30.417085647583008,28.821250915527344,28.36500358581543,28.798330307006836,30.852502822875977,26.877500534057617,24.62333106994629,23.669166564941406,24.896249771118164,24.498334884643555,23.921247482299805,23.40666961669922,24.85666847229004,25.467084884643555,24.739999771118164,23.81291389465332,24.66083526611328,25.03166961669922,24.785837173461914,24.935834884643555,24.387914657592773,24.3941650390625,25.50458526611328,25.548330307006836,25.737916946411133,25.47749900817871,24.931665420532227,25.637914657592773,25.531667709350586,26.354581832885742,27.127500534057617,27.165000915527344,24.215002059936523,22.773332595825195,22.346250534057617,23.0504207611084,23.50458335876465,25.581666946411133,26.321250915527344,24.608749389648438,25.089996337890625,25.59625244140625,27.773332595825195,25.754579544067383,26.9858341217041,27.975418090820312,28.590002059936523,27.44416618347168,26.590002059936523,26.125417709350586,25.29833221435547,26.806665420532227,27.185834884643555,27.77333641052246,25.148332595825195,25.9879207611084,27.99208641052246,28.546247482299805,25.246248245239258,23.546249389648438,24.321252822875977,26.8941650390625,25.798337936401367,24.560834884643555,24.979583740234375,23.59833526611328,24.03999900817871,24.31707763671875,25.18583106994629,23.25250244140625,20.664997100830078,21.10666847229004,23.39000129699707,22.181665420532227,20.87333106994629,20.208749771118164,20.72541618347168,21.648332595825195,21.937917709350586,21.45458221435547,21.185832977294922,21.15666389465332,21.606666564941406,21.98999786376953,22.087915420532227,22.29833221435547,23.135833740234375,22.154584884643555,21.344167709350586,22.083749771118164,22.48583221435547,22.523332595825195,23.456666946411133,22.965002059936523,23.167083740234375,22.989999771118164,21.981666564941406,23.25250244140625,24.89208221435547,25.231664657592773,24.215002059936523,24.62333106994629,23.81291961669922,24.602500915527344,24.431669235229492,20.037918090820312,19.427499771118164,20.352500915527344,21.377500534057617,22.9545841217041,23.089998245239258,21.31291389465332,21.217084884643555,21.752500534057617,21.589998245239258,22.315000534057617,22.03999900817871,22.169164657592773,21.66291618347168,22.125417709350586,21.467084884643555,20.800416946411133,20.852500915527344,20.21916389465332,19.739999771118164,18.625417709350586,19.596250534057617,19.41291618347168,19.6441650390625,19.742080688476562,20.85249900817871,21.925416946411133,22.092086791992188,23.385835647583008,22.03583526611328,20.139999389648438,20.242084503173828,21.173330307006836],\"yaxis\":\"y\",\"type\":\"scatter\"}],                        {\"template\":{\"data\":{\"histogram2dcontour\":[{\"type\":\"histogram2dcontour\",\"colorbar\":{\"outlinewidth\":0,\"ticks\":\"\"},\"colorscale\":[[0.0,\"#0d0887\"],[0.1111111111111111,\"#46039f\"],[0.2222222222222222,\"#7201a8\"],[0.3333333333333333,\"#9c179e\"],[0.4444444444444444,\"#bd3786\"],[0.5555555555555556,\"#d8576b\"],[0.6666666666666666,\"#ed7953\"],[0.7777777777777778,\"#fb9f3a\"],[0.8888888888888888,\"#fdca26\"],[1.0,\"#f0f921\"]]}],\"choropleth\":[{\"type\":\"choropleth\",\"colorbar\":{\"outlinewidth\":0,\"ticks\":\"\"}}],\"histogram2d\":[{\"type\":\"histogram2d\",\"colorbar\":{\"outlinewidth\":0,\"ticks\":\"\"},\"colorscale\":[[0.0,\"#0d0887\"],[0.1111111111111111,\"#46039f\"],[0.2222222222222222,\"#7201a8\"],[0.3333333333333333,\"#9c179e\"],[0.4444444444444444,\"#bd3786\"],[0.5555555555555556,\"#d8576b\"],[0.6666666666666666,\"#ed7953\"],[0.7777777777777778,\"#fb9f3a\"],[0.8888888888888888,\"#fdca26\"],[1.0,\"#f0f921\"]]}],\"heatmap\":[{\"type\":\"heatmap\",\"colorbar\":{\"outlinewidth\":0,\"ticks\":\"\"},\"colorscale\":[[0.0,\"#0d0887\"],[0.1111111111111111,\"#46039f\"],[0.2222222222222222,\"#7201a8\"],[0.3333333333333333,\"#9c179e\"],[0.4444444444444444,\"#bd3786\"],[0.5555555555555556,\"#d8576b\"],[0.6666666666666666,\"#ed7953\"],[0.7777777777777778,\"#fb9f3a\"],[0.8888888888888888,\"#fdca26\"],[1.0,\"#f0f921\"]]}],\"heatmapgl\":[{\"type\":\"heatmapgl\",\"colorbar\":{\"outlinewidth\":0,\"ticks\":\"\"},\"colorscale\":[[0.0,\"#0d0887\"],[0.1111111111111111,\"#46039f\"],[0.2222222222222222,\"#7201a8\"],[0.3333333333333333,\"#9c179e\"],[0.4444444444444444,\"#bd3786\"],[0.5555555555555556,\"#d8576b\"],[0.6666666666666666,\"#ed7953\"],[0.7777777777777778,\"#fb9f3a\"],[0.8888888888888888,\"#fdca26\"],[1.0,\"#f0f921\"]]}],\"contourcarpet\":[{\"type\":\"contourcarpet\",\"colorbar\":{\"outlinewidth\":0,\"ticks\":\"\"}}],\"contour\":[{\"type\":\"contour\",\"colorbar\":{\"outlinewidth\":0,\"ticks\":\"\"},\"colorscale\":[[0.0,\"#0d0887\"],[0.1111111111111111,\"#46039f\"],[0.2222222222222222,\"#7201a8\"],[0.3333333333333333,\"#9c179e\"],[0.4444444444444444,\"#bd3786\"],[0.5555555555555556,\"#d8576b\"],[0.6666666666666666,\"#ed7953\"],[0.7777777777777778,\"#fb9f3a\"],[0.8888888888888888,\"#fdca26\"],[1.0,\"#f0f921\"]]}],\"surface\":[{\"type\":\"surface\",\"colorbar\":{\"outlinewidth\":0,\"ticks\":\"\"},\"colorscale\":[[0.0,\"#0d0887\"],[0.1111111111111111,\"#46039f\"],[0.2222222222222222,\"#7201a8\"],[0.3333333333333333,\"#9c179e\"],[0.4444444444444444,\"#bd3786\"],[0.5555555555555556,\"#d8576b\"],[0.6666666666666666,\"#ed7953\"],[0.7777777777777778,\"#fb9f3a\"],[0.8888888888888888,\"#fdca26\"],[1.0,\"#f0f921\"]]}],\"mesh3d\":[{\"type\":\"mesh3d\",\"colorbar\":{\"outlinewidth\":0,\"ticks\":\"\"}}],\"scatter\":[{\"fillpattern\":{\"fillmode\":\"overlay\",\"size\":10,\"solidity\":0.2},\"type\":\"scatter\"}],\"parcoords\":[{\"type\":\"parcoords\",\"line\":{\"colorbar\":{\"outlinewidth\":0,\"ticks\":\"\"}}}],\"scatterpolargl\":[{\"type\":\"scatterpolargl\",\"marker\":{\"colorbar\":{\"outlinewidth\":0,\"ticks\":\"\"}}}],\"bar\":[{\"error_x\":{\"color\":\"#2a3f5f\"},\"error_y\":{\"color\":\"#2a3f5f\"},\"marker\":{\"line\":{\"color\":\"#E5ECF6\",\"width\":0.5},\"pattern\":{\"fillmode\":\"overlay\",\"size\":10,\"solidity\":0.2}},\"type\":\"bar\"}],\"scattergeo\":[{\"type\":\"scattergeo\",\"marker\":{\"colorbar\":{\"outlinewidth\":0,\"ticks\":\"\"}}}],\"scatterpolar\":[{\"type\":\"scatterpolar\",\"marker\":{\"colorbar\":{\"outlinewidth\":0,\"ticks\":\"\"}}}],\"histogram\":[{\"marker\":{\"pattern\":{\"fillmode\":\"overlay\",\"size\":10,\"solidity\":0.2}},\"type\":\"histogram\"}],\"scattergl\":[{\"type\":\"scattergl\",\"marker\":{\"colorbar\":{\"outlinewidth\":0,\"ticks\":\"\"}}}],\"scatter3d\":[{\"type\":\"scatter3d\",\"line\":{\"colorbar\":{\"outlinewidth\":0,\"ticks\":\"\"}},\"marker\":{\"colorbar\":{\"outlinewidth\":0,\"ticks\":\"\"}}}],\"scattermapbox\":[{\"type\":\"scattermapbox\",\"marker\":{\"colorbar\":{\"outlinewidth\":0,\"ticks\":\"\"}}}],\"scatterternary\":[{\"type\":\"scatterternary\",\"marker\":{\"colorbar\":{\"outlinewidth\":0,\"ticks\":\"\"}}}],\"scattercarpet\":[{\"type\":\"scattercarpet\",\"marker\":{\"colorbar\":{\"outlinewidth\":0,\"ticks\":\"\"}}}],\"carpet\":[{\"aaxis\":{\"endlinecolor\":\"#2a3f5f\",\"gridcolor\":\"white\",\"linecolor\":\"white\",\"minorgridcolor\":\"white\",\"startlinecolor\":\"#2a3f5f\"},\"baxis\":{\"endlinecolor\":\"#2a3f5f\",\"gridcolor\":\"white\",\"linecolor\":\"white\",\"minorgridcolor\":\"white\",\"startlinecolor\":\"#2a3f5f\"},\"type\":\"carpet\"}],\"table\":[{\"cells\":{\"fill\":{\"color\":\"#EBF0F8\"},\"line\":{\"color\":\"white\"}},\"header\":{\"fill\":{\"color\":\"#C8D4E3\"},\"line\":{\"color\":\"white\"}},\"type\":\"table\"}],\"barpolar\":[{\"marker\":{\"line\":{\"color\":\"#E5ECF6\",\"width\":0.5},\"pattern\":{\"fillmode\":\"overlay\",\"size\":10,\"solidity\":0.2}},\"type\":\"barpolar\"}],\"pie\":[{\"automargin\":true,\"type\":\"pie\"}]},\"layout\":{\"autotypenumbers\":\"strict\",\"colorway\":[\"#636efa\",\"#EF553B\",\"#00cc96\",\"#ab63fa\",\"#FFA15A\",\"#19d3f3\",\"#FF6692\",\"#B6E880\",\"#FF97FF\",\"#FECB52\"],\"font\":{\"color\":\"#2a3f5f\"},\"hovermode\":\"closest\",\"hoverlabel\":{\"align\":\"left\"},\"paper_bgcolor\":\"white\",\"plot_bgcolor\":\"#E5ECF6\",\"polar\":{\"bgcolor\":\"#E5ECF6\",\"angularaxis\":{\"gridcolor\":\"white\",\"linecolor\":\"white\",\"ticks\":\"\"},\"radialaxis\":{\"gridcolor\":\"white\",\"linecolor\":\"white\",\"ticks\":\"\"}},\"ternary\":{\"bgcolor\":\"#E5ECF6\",\"aaxis\":{\"gridcolor\":\"white\",\"linecolor\":\"white\",\"ticks\":\"\"},\"baxis\":{\"gridcolor\":\"white\",\"linecolor\":\"white\",\"ticks\":\"\"},\"caxis\":{\"gridcolor\":\"white\",\"linecolor\":\"white\",\"ticks\":\"\"}},\"coloraxis\":{\"colorbar\":{\"outlinewidth\":0,\"ticks\":\"\"}},\"colorscale\":{\"sequential\":[[0.0,\"#0d0887\"],[0.1111111111111111,\"#46039f\"],[0.2222222222222222,\"#7201a8\"],[0.3333333333333333,\"#9c179e\"],[0.4444444444444444,\"#bd3786\"],[0.5555555555555556,\"#d8576b\"],[0.6666666666666666,\"#ed7953\"],[0.7777777777777778,\"#fb9f3a\"],[0.8888888888888888,\"#fdca26\"],[1.0,\"#f0f921\"]],\"sequentialminus\":[[0.0,\"#0d0887\"],[0.1111111111111111,\"#46039f\"],[0.2222222222222222,\"#7201a8\"],[0.3333333333333333,\"#9c179e\"],[0.4444444444444444,\"#bd3786\"],[0.5555555555555556,\"#d8576b\"],[0.6666666666666666,\"#ed7953\"],[0.7777777777777778,\"#fb9f3a\"],[0.8888888888888888,\"#fdca26\"],[1.0,\"#f0f921\"]],\"diverging\":[[0,\"#8e0152\"],[0.1,\"#c51b7d\"],[0.2,\"#de77ae\"],[0.3,\"#f1b6da\"],[0.4,\"#fde0ef\"],[0.5,\"#f7f7f7\"],[0.6,\"#e6f5d0\"],[0.7,\"#b8e186\"],[0.8,\"#7fbc41\"],[0.9,\"#4d9221\"],[1,\"#276419\"]]},\"xaxis\":{\"gridcolor\":\"white\",\"linecolor\":\"white\",\"ticks\":\"\",\"title\":{\"standoff\":15},\"zerolinecolor\":\"white\",\"automargin\":true,\"zerolinewidth\":2},\"yaxis\":{\"gridcolor\":\"white\",\"linecolor\":\"white\",\"ticks\":\"\",\"title\":{\"standoff\":15},\"zerolinecolor\":\"white\",\"automargin\":true,\"zerolinewidth\":2},\"scene\":{\"xaxis\":{\"backgroundcolor\":\"#E5ECF6\",\"gridcolor\":\"white\",\"linecolor\":\"white\",\"showbackground\":true,\"ticks\":\"\",\"zerolinecolor\":\"white\",\"gridwidth\":2},\"yaxis\":{\"backgroundcolor\":\"#E5ECF6\",\"gridcolor\":\"white\",\"linecolor\":\"white\",\"showbackground\":true,\"ticks\":\"\",\"zerolinecolor\":\"white\",\"gridwidth\":2},\"zaxis\":{\"backgroundcolor\":\"#E5ECF6\",\"gridcolor\":\"white\",\"linecolor\":\"white\",\"showbackground\":true,\"ticks\":\"\",\"zerolinecolor\":\"white\",\"gridwidth\":2}},\"shapedefaults\":{\"line\":{\"color\":\"#2a3f5f\"}},\"annotationdefaults\":{\"arrowcolor\":\"#2a3f5f\",\"arrowhead\":0,\"arrowwidth\":1},\"geo\":{\"bgcolor\":\"white\",\"landcolor\":\"#E5ECF6\",\"subunitcolor\":\"white\",\"showland\":true,\"showlakes\":true,\"lakecolor\":\"white\"},\"title\":{\"x\":0.05},\"mapbox\":{\"style\":\"light\"}}},\"xaxis\":{\"anchor\":\"y\",\"domain\":[0.0,1.0],\"title\":{\"text\":\"Data\"}},\"yaxis\":{\"anchor\":\"x\",\"domain\":[0.0,1.0],\"title\":{\"text\":\"Temperatura M\\u00e9dia\"}},\"legend\":{\"tracegroupgap\":0},\"title\":{\"text\":\"Temperatura m\\u00e9dia di\\u00e1ria de 2024 at\\u00e9 o m\\u00eas de Agosto\"},\"width\":1080},                        {\"responsive\": true}                    ).then(function(){\n",
              "                            \n",
              "var gd = document.getElementById('70d85663-be0c-4a72-a0fb-c69ceae25119');\n",
              "var x = new MutationObserver(function (mutations, observer) {{\n",
              "        var display = window.getComputedStyle(gd).display;\n",
              "        if (!display || display === 'none') {{\n",
              "            console.log([gd, 'removed!']);\n",
              "            Plotly.purge(gd);\n",
              "            observer.disconnect();\n",
              "        }}\n",
              "}});\n",
              "\n",
              "// Listen for the removal of the full notebook cells\n",
              "var notebookContainer = gd.closest('#notebook-container');\n",
              "if (notebookContainer) {{\n",
              "    x.observe(notebookContainer, {childList: true});\n",
              "}}\n",
              "\n",
              "// Listen for the clearing of the current output cell\n",
              "var outputEl = gd.closest('.output');\n",
              "if (outputEl) {{\n",
              "    x.observe(outputEl, {childList: true});\n",
              "}}\n",
              "\n",
              "                        })                };                            </script>        </div>\n",
              "</body>\n",
              "</html>"
            ]
          },
          "metadata": {}
        }
      ]
    },
    {
      "cell_type": "markdown",
      "source": [
        "## Pergunta 5: Qual foi o tempo predominante em cada mês nesse período?\n",
        "Utilize como referência para o código de tempo (weather_code) o seguinte link: [WMO Code](https://gist.github.com/stellasphere/9490c195ed2b53c707087c8c2db4ec0c)."
      ],
      "metadata": {
        "id": "ik1HImY1budO"
      }
    },
    {
      "cell_type": "code",
      "source": [
        "# Requisitando arquivo JSON de weather_code\n",
        "url = 'https://gist.githubusercontent.com/stellasphere/9490c195ed2b53c707087c8c2db4ec0c/raw/76b0cb0ef0bfd8a2ec988aa54e30ecd1b483495d/descriptions.json'\n",
        "resp = requests.get(url)\n",
        "codes = json.loads(resp.text)\n",
        "print(codes)"
      ],
      "metadata": {
        "colab": {
          "base_uri": "https://localhost:8080/"
        },
        "id": "XKCgIHKybzgv",
        "outputId": "d8961800-e44d-4c9f-d75d-62a117b53fc7"
      },
      "execution_count": 88,
      "outputs": [
        {
          "output_type": "stream",
          "name": "stdout",
          "text": [
            "{'0': {'day': {'description': 'Sunny', 'image': 'http://openweathermap.org/img/wn/01d@2x.png'}, 'night': {'description': 'Clear', 'image': 'http://openweathermap.org/img/wn/01n@2x.png'}}, '1': {'day': {'description': 'Mainly Sunny', 'image': 'http://openweathermap.org/img/wn/01d@2x.png'}, 'night': {'description': 'Mainly Clear', 'image': 'http://openweathermap.org/img/wn/01n@2x.png'}}, '2': {'day': {'description': 'Partly Cloudy', 'image': 'http://openweathermap.org/img/wn/02d@2x.png'}, 'night': {'description': 'Partly Cloudy', 'image': 'http://openweathermap.org/img/wn/02n@2x.png'}}, '3': {'day': {'description': 'Cloudy', 'image': 'http://openweathermap.org/img/wn/03d@2x.png'}, 'night': {'description': 'Cloudy', 'image': 'http://openweathermap.org/img/wn/03n@2x.png'}}, '45': {'day': {'description': 'Foggy', 'image': 'http://openweathermap.org/img/wn/50d@2x.png'}, 'night': {'description': 'Foggy', 'image': 'http://openweathermap.org/img/wn/50n@2x.png'}}, '48': {'day': {'description': 'Rime Fog', 'image': 'http://openweathermap.org/img/wn/50d@2x.png'}, 'night': {'description': 'Rime Fog', 'image': 'http://openweathermap.org/img/wn/50n@2x.png'}}, '51': {'day': {'description': 'Light Drizzle', 'image': 'http://openweathermap.org/img/wn/09d@2x.png'}, 'night': {'description': 'Light Drizzle', 'image': 'http://openweathermap.org/img/wn/09n@2x.png'}}, '53': {'day': {'description': 'Drizzle', 'image': 'http://openweathermap.org/img/wn/09d@2x.png'}, 'night': {'description': 'Drizzle', 'image': 'http://openweathermap.org/img/wn/09n@2x.png'}}, '55': {'day': {'description': 'Heavy Drizzle', 'image': 'http://openweathermap.org/img/wn/09d@2x.png'}, 'night': {'description': 'Heavy Drizzle', 'image': 'http://openweathermap.org/img/wn/09n@2x.png'}}, '56': {'day': {'description': 'Light Freezing Drizzle', 'image': 'http://openweathermap.org/img/wn/09d@2x.png'}, 'night': {'description': 'Light Freezing Drizzle', 'image': 'http://openweathermap.org/img/wn/09n@2x.png'}}, '57': {'day': {'description': 'Freezing Drizzle', 'image': 'http://openweathermap.org/img/wn/09d@2x.png'}, 'night': {'description': 'Freezing Drizzle', 'image': 'http://openweathermap.org/img/wn/09n@2x.png'}}, '61': {'day': {'description': 'Light Rain', 'image': 'http://openweathermap.org/img/wn/10d@2x.png'}, 'night': {'description': 'Light Rain', 'image': 'http://openweathermap.org/img/wn/10n@2x.png'}}, '63': {'day': {'description': 'Rain', 'image': 'http://openweathermap.org/img/wn/10d@2x.png'}, 'night': {'description': 'Rain', 'image': 'http://openweathermap.org/img/wn/10n@2x.png'}}, '65': {'day': {'description': 'Heavy Rain', 'image': 'http://openweathermap.org/img/wn/10d@2x.png'}, 'night': {'description': 'Heavy Rain', 'image': 'http://openweathermap.org/img/wn/10n@2x.png'}}, '66': {'day': {'description': 'Light Freezing Rain', 'image': 'http://openweathermap.org/img/wn/10d@2x.png'}, 'night': {'description': 'Light Freezing Rain', 'image': 'http://openweathermap.org/img/wn/10n@2x.png'}}, '67': {'day': {'description': 'Freezing Rain', 'image': 'http://openweathermap.org/img/wn/10d@2x.png'}, 'night': {'description': 'Freezing Rain', 'image': 'http://openweathermap.org/img/wn/10n@2x.png'}}, '71': {'day': {'description': 'Light Snow', 'image': 'http://openweathermap.org/img/wn/13d@2x.png'}, 'night': {'description': 'Light Snow', 'image': 'http://openweathermap.org/img/wn/13n@2x.png'}}, '73': {'day': {'description': 'Snow', 'image': 'http://openweathermap.org/img/wn/13d@2x.png'}, 'night': {'description': 'Snow', 'image': 'http://openweathermap.org/img/wn/13n@2x.png'}}, '75': {'day': {'description': 'Heavy Snow', 'image': 'http://openweathermap.org/img/wn/13d@2x.png'}, 'night': {'description': 'Heavy Snow', 'image': 'http://openweathermap.org/img/wn/13n@2x.png'}}, '77': {'day': {'description': 'Snow Grains', 'image': 'http://openweathermap.org/img/wn/13d@2x.png'}, 'night': {'description': 'Snow Grains', 'image': 'http://openweathermap.org/img/wn/13n@2x.png'}}, '80': {'day': {'description': 'Light Showers', 'image': 'http://openweathermap.org/img/wn/09d@2x.png'}, 'night': {'description': 'Light Showers', 'image': 'http://openweathermap.org/img/wn/09n@2x.png'}}, '81': {'day': {'description': 'Showers', 'image': 'http://openweathermap.org/img/wn/09d@2x.png'}, 'night': {'description': 'Showers', 'image': 'http://openweathermap.org/img/wn/09n@2x.png'}}, '82': {'day': {'description': 'Heavy Showers', 'image': 'http://openweathermap.org/img/wn/09d@2x.png'}, 'night': {'description': 'Heavy Showers', 'image': 'http://openweathermap.org/img/wn/09n@2x.png'}}, '85': {'day': {'description': 'Light Snow Showers', 'image': 'http://openweathermap.org/img/wn/13d@2x.png'}, 'night': {'description': 'Light Snow Showers', 'image': 'http://openweathermap.org/img/wn/13n@2x.png'}}, '86': {'day': {'description': 'Snow Showers', 'image': 'http://openweathermap.org/img/wn/13d@2x.png'}, 'night': {'description': 'Snow Showers', 'image': 'http://openweathermap.org/img/wn/13n@2x.png'}}, '95': {'day': {'description': 'Thunderstorm', 'image': 'http://openweathermap.org/img/wn/11d@2x.png'}, 'night': {'description': 'Thunderstorm', 'image': 'http://openweathermap.org/img/wn/11n@2x.png'}}, '96': {'day': {'description': 'Light Thunderstorms With Hail', 'image': 'http://openweathermap.org/img/wn/11d@2x.png'}, 'night': {'description': 'Light Thunderstorms With Hail', 'image': 'http://openweathermap.org/img/wn/11n@2x.png'}}, '99': {'day': {'description': 'Thunderstorm With Hail', 'image': 'http://openweathermap.org/img/wn/11d@2x.png'}, 'night': {'description': 'Thunderstorm With Hail', 'image': 'http://openweathermap.org/img/wn/11n@2x.png'}}}\n"
          ]
        }
      ]
    },
    {
      "cell_type": "code",
      "source": [
        "df_daily.head()"
      ],
      "metadata": {
        "colab": {
          "base_uri": "https://localhost:8080/",
          "height": 206
        },
        "id": "_OyBdL-MdJGo",
        "outputId": "64e86d96-0ce2-4b33-ed4d-71bd2e89aca6"
      },
      "execution_count": 87,
      "outputs": [
        {
          "output_type": "execute_result",
          "data": {
            "text/plain": [
              "                       date  weather_code  temperature_2m_mean\n",
              "0 2024-01-01 00:00:00+00:00          51.0            24.867086\n",
              "1 2024-01-02 00:00:00+00:00          51.0            25.719164\n",
              "2 2024-01-03 00:00:00+00:00          53.0            26.244165\n",
              "3 2024-01-04 00:00:00+00:00          63.0            24.971251\n",
              "4 2024-01-05 00:00:00+00:00          53.0            25.171251"
            ],
            "text/html": [
              "\n",
              "  <div id=\"df-36b1cb46-ade8-4db1-a568-53d8ac655161\" class=\"colab-df-container\">\n",
              "    <div>\n",
              "<style scoped>\n",
              "    .dataframe tbody tr th:only-of-type {\n",
              "        vertical-align: middle;\n",
              "    }\n",
              "\n",
              "    .dataframe tbody tr th {\n",
              "        vertical-align: top;\n",
              "    }\n",
              "\n",
              "    .dataframe thead th {\n",
              "        text-align: right;\n",
              "    }\n",
              "</style>\n",
              "<table border=\"1\" class=\"dataframe\">\n",
              "  <thead>\n",
              "    <tr style=\"text-align: right;\">\n",
              "      <th></th>\n",
              "      <th>date</th>\n",
              "      <th>weather_code</th>\n",
              "      <th>temperature_2m_mean</th>\n",
              "    </tr>\n",
              "  </thead>\n",
              "  <tbody>\n",
              "    <tr>\n",
              "      <th>0</th>\n",
              "      <td>2024-01-01 00:00:00+00:00</td>\n",
              "      <td>51.0</td>\n",
              "      <td>24.867086</td>\n",
              "    </tr>\n",
              "    <tr>\n",
              "      <th>1</th>\n",
              "      <td>2024-01-02 00:00:00+00:00</td>\n",
              "      <td>51.0</td>\n",
              "      <td>25.719164</td>\n",
              "    </tr>\n",
              "    <tr>\n",
              "      <th>2</th>\n",
              "      <td>2024-01-03 00:00:00+00:00</td>\n",
              "      <td>53.0</td>\n",
              "      <td>26.244165</td>\n",
              "    </tr>\n",
              "    <tr>\n",
              "      <th>3</th>\n",
              "      <td>2024-01-04 00:00:00+00:00</td>\n",
              "      <td>63.0</td>\n",
              "      <td>24.971251</td>\n",
              "    </tr>\n",
              "    <tr>\n",
              "      <th>4</th>\n",
              "      <td>2024-01-05 00:00:00+00:00</td>\n",
              "      <td>53.0</td>\n",
              "      <td>25.171251</td>\n",
              "    </tr>\n",
              "  </tbody>\n",
              "</table>\n",
              "</div>\n",
              "    <div class=\"colab-df-buttons\">\n",
              "\n",
              "  <div class=\"colab-df-container\">\n",
              "    <button class=\"colab-df-convert\" onclick=\"convertToInteractive('df-36b1cb46-ade8-4db1-a568-53d8ac655161')\"\n",
              "            title=\"Convert this dataframe to an interactive table.\"\n",
              "            style=\"display:none;\">\n",
              "\n",
              "  <svg xmlns=\"http://www.w3.org/2000/svg\" height=\"24px\" viewBox=\"0 -960 960 960\">\n",
              "    <path d=\"M120-120v-720h720v720H120Zm60-500h600v-160H180v160Zm220 220h160v-160H400v160Zm0 220h160v-160H400v160ZM180-400h160v-160H180v160Zm440 0h160v-160H620v160ZM180-180h160v-160H180v160Zm440 0h160v-160H620v160Z\"/>\n",
              "  </svg>\n",
              "    </button>\n",
              "\n",
              "  <style>\n",
              "    .colab-df-container {\n",
              "      display:flex;\n",
              "      gap: 12px;\n",
              "    }\n",
              "\n",
              "    .colab-df-convert {\n",
              "      background-color: #E8F0FE;\n",
              "      border: none;\n",
              "      border-radius: 50%;\n",
              "      cursor: pointer;\n",
              "      display: none;\n",
              "      fill: #1967D2;\n",
              "      height: 32px;\n",
              "      padding: 0 0 0 0;\n",
              "      width: 32px;\n",
              "    }\n",
              "\n",
              "    .colab-df-convert:hover {\n",
              "      background-color: #E2EBFA;\n",
              "      box-shadow: 0px 1px 2px rgba(60, 64, 67, 0.3), 0px 1px 3px 1px rgba(60, 64, 67, 0.15);\n",
              "      fill: #174EA6;\n",
              "    }\n",
              "\n",
              "    .colab-df-buttons div {\n",
              "      margin-bottom: 4px;\n",
              "    }\n",
              "\n",
              "    [theme=dark] .colab-df-convert {\n",
              "      background-color: #3B4455;\n",
              "      fill: #D2E3FC;\n",
              "    }\n",
              "\n",
              "    [theme=dark] .colab-df-convert:hover {\n",
              "      background-color: #434B5C;\n",
              "      box-shadow: 0px 1px 3px 1px rgba(0, 0, 0, 0.15);\n",
              "      filter: drop-shadow(0px 1px 2px rgba(0, 0, 0, 0.3));\n",
              "      fill: #FFFFFF;\n",
              "    }\n",
              "  </style>\n",
              "\n",
              "    <script>\n",
              "      const buttonEl =\n",
              "        document.querySelector('#df-36b1cb46-ade8-4db1-a568-53d8ac655161 button.colab-df-convert');\n",
              "      buttonEl.style.display =\n",
              "        google.colab.kernel.accessAllowed ? 'block' : 'none';\n",
              "\n",
              "      async function convertToInteractive(key) {\n",
              "        const element = document.querySelector('#df-36b1cb46-ade8-4db1-a568-53d8ac655161');\n",
              "        const dataTable =\n",
              "          await google.colab.kernel.invokeFunction('convertToInteractive',\n",
              "                                                    [key], {});\n",
              "        if (!dataTable) return;\n",
              "\n",
              "        const docLinkHtml = 'Like what you see? Visit the ' +\n",
              "          '<a target=\"_blank\" href=https://colab.research.google.com/notebooks/data_table.ipynb>data table notebook</a>'\n",
              "          + ' to learn more about interactive tables.';\n",
              "        element.innerHTML = '';\n",
              "        dataTable['output_type'] = 'display_data';\n",
              "        await google.colab.output.renderOutput(dataTable, element);\n",
              "        const docLink = document.createElement('div');\n",
              "        docLink.innerHTML = docLinkHtml;\n",
              "        element.appendChild(docLink);\n",
              "      }\n",
              "    </script>\n",
              "  </div>\n",
              "\n",
              "\n",
              "<div id=\"df-af61409d-7f1a-4d55-a7a7-8c4c4287da3e\">\n",
              "  <button class=\"colab-df-quickchart\" onclick=\"quickchart('df-af61409d-7f1a-4d55-a7a7-8c4c4287da3e')\"\n",
              "            title=\"Suggest charts\"\n",
              "            style=\"display:none;\">\n",
              "\n",
              "<svg xmlns=\"http://www.w3.org/2000/svg\" height=\"24px\"viewBox=\"0 0 24 24\"\n",
              "     width=\"24px\">\n",
              "    <g>\n",
              "        <path d=\"M19 3H5c-1.1 0-2 .9-2 2v14c0 1.1.9 2 2 2h14c1.1 0 2-.9 2-2V5c0-1.1-.9-2-2-2zM9 17H7v-7h2v7zm4 0h-2V7h2v10zm4 0h-2v-4h2v4z\"/>\n",
              "    </g>\n",
              "</svg>\n",
              "  </button>\n",
              "\n",
              "<style>\n",
              "  .colab-df-quickchart {\n",
              "      --bg-color: #E8F0FE;\n",
              "      --fill-color: #1967D2;\n",
              "      --hover-bg-color: #E2EBFA;\n",
              "      --hover-fill-color: #174EA6;\n",
              "      --disabled-fill-color: #AAA;\n",
              "      --disabled-bg-color: #DDD;\n",
              "  }\n",
              "\n",
              "  [theme=dark] .colab-df-quickchart {\n",
              "      --bg-color: #3B4455;\n",
              "      --fill-color: #D2E3FC;\n",
              "      --hover-bg-color: #434B5C;\n",
              "      --hover-fill-color: #FFFFFF;\n",
              "      --disabled-bg-color: #3B4455;\n",
              "      --disabled-fill-color: #666;\n",
              "  }\n",
              "\n",
              "  .colab-df-quickchart {\n",
              "    background-color: var(--bg-color);\n",
              "    border: none;\n",
              "    border-radius: 50%;\n",
              "    cursor: pointer;\n",
              "    display: none;\n",
              "    fill: var(--fill-color);\n",
              "    height: 32px;\n",
              "    padding: 0;\n",
              "    width: 32px;\n",
              "  }\n",
              "\n",
              "  .colab-df-quickchart:hover {\n",
              "    background-color: var(--hover-bg-color);\n",
              "    box-shadow: 0 1px 2px rgba(60, 64, 67, 0.3), 0 1px 3px 1px rgba(60, 64, 67, 0.15);\n",
              "    fill: var(--button-hover-fill-color);\n",
              "  }\n",
              "\n",
              "  .colab-df-quickchart-complete:disabled,\n",
              "  .colab-df-quickchart-complete:disabled:hover {\n",
              "    background-color: var(--disabled-bg-color);\n",
              "    fill: var(--disabled-fill-color);\n",
              "    box-shadow: none;\n",
              "  }\n",
              "\n",
              "  .colab-df-spinner {\n",
              "    border: 2px solid var(--fill-color);\n",
              "    border-color: transparent;\n",
              "    border-bottom-color: var(--fill-color);\n",
              "    animation:\n",
              "      spin 1s steps(1) infinite;\n",
              "  }\n",
              "\n",
              "  @keyframes spin {\n",
              "    0% {\n",
              "      border-color: transparent;\n",
              "      border-bottom-color: var(--fill-color);\n",
              "      border-left-color: var(--fill-color);\n",
              "    }\n",
              "    20% {\n",
              "      border-color: transparent;\n",
              "      border-left-color: var(--fill-color);\n",
              "      border-top-color: var(--fill-color);\n",
              "    }\n",
              "    30% {\n",
              "      border-color: transparent;\n",
              "      border-left-color: var(--fill-color);\n",
              "      border-top-color: var(--fill-color);\n",
              "      border-right-color: var(--fill-color);\n",
              "    }\n",
              "    40% {\n",
              "      border-color: transparent;\n",
              "      border-right-color: var(--fill-color);\n",
              "      border-top-color: var(--fill-color);\n",
              "    }\n",
              "    60% {\n",
              "      border-color: transparent;\n",
              "      border-right-color: var(--fill-color);\n",
              "    }\n",
              "    80% {\n",
              "      border-color: transparent;\n",
              "      border-right-color: var(--fill-color);\n",
              "      border-bottom-color: var(--fill-color);\n",
              "    }\n",
              "    90% {\n",
              "      border-color: transparent;\n",
              "      border-bottom-color: var(--fill-color);\n",
              "    }\n",
              "  }\n",
              "</style>\n",
              "\n",
              "  <script>\n",
              "    async function quickchart(key) {\n",
              "      const quickchartButtonEl =\n",
              "        document.querySelector('#' + key + ' button');\n",
              "      quickchartButtonEl.disabled = true;  // To prevent multiple clicks.\n",
              "      quickchartButtonEl.classList.add('colab-df-spinner');\n",
              "      try {\n",
              "        const charts = await google.colab.kernel.invokeFunction(\n",
              "            'suggestCharts', [key], {});\n",
              "      } catch (error) {\n",
              "        console.error('Error during call to suggestCharts:', error);\n",
              "      }\n",
              "      quickchartButtonEl.classList.remove('colab-df-spinner');\n",
              "      quickchartButtonEl.classList.add('colab-df-quickchart-complete');\n",
              "    }\n",
              "    (() => {\n",
              "      let quickchartButtonEl =\n",
              "        document.querySelector('#df-af61409d-7f1a-4d55-a7a7-8c4c4287da3e button');\n",
              "      quickchartButtonEl.style.display =\n",
              "        google.colab.kernel.accessAllowed ? 'block' : 'none';\n",
              "    })();\n",
              "  </script>\n",
              "</div>\n",
              "\n",
              "    </div>\n",
              "  </div>\n"
            ],
            "application/vnd.google.colaboratory.intrinsic+json": {
              "type": "dataframe",
              "variable_name": "df_daily",
              "summary": "{\n  \"name\": \"df_daily\",\n  \"rows\": 214,\n  \"fields\": [\n    {\n      \"column\": \"date\",\n      \"properties\": {\n        \"dtype\": \"date\",\n        \"min\": \"2024-01-01 00:00:00+00:00\",\n        \"max\": \"2024-08-01 00:00:00+00:00\",\n        \"num_unique_values\": 214,\n        \"samples\": [\n          \"2024-01-10 00:00:00+00:00\",\n          \"2024-07-16 00:00:00+00:00\",\n          \"2024-03-07 00:00:00+00:00\"\n        ],\n        \"semantic_type\": \"\",\n        \"description\": \"\"\n      }\n    },\n    {\n      \"column\": \"weather_code\",\n      \"properties\": {\n        \"dtype\": \"float32\",\n        \"num_unique_values\": 10,\n        \"samples\": [\n          65.0,\n          53.0,\n          2.0\n        ],\n        \"semantic_type\": \"\",\n        \"description\": \"\"\n      }\n    },\n    {\n      \"column\": \"temperature_2m_mean\",\n      \"properties\": {\n        \"dtype\": \"float32\",\n        \"num_unique_values\": 211,\n        \"samples\": [\n          26.777496337890625,\n          24.89208221435547,\n          24.979583740234375\n        ],\n        \"semantic_type\": \"\",\n        \"description\": \"\"\n      }\n    }\n  ]\n}"
            }
          },
          "metadata": {},
          "execution_count": 87
        }
      ]
    },
    {
      "cell_type": "code",
      "source": [
        "# Cria uma nova coluna 'weather_description' contendo a tradução do weather_code do tempo durante o Dia\n",
        "df_daily['weather_description'] = df_daily['weather_code'].apply(lambda code: codes[str(int(code))]['day']['description'])"
      ],
      "metadata": {
        "id": "rGzeBv46fM1f"
      },
      "execution_count": 90,
      "outputs": []
    },
    {
      "cell_type": "code",
      "source": [
        "grouped_by_weather = df_daily.groupby('weather_description').size().reset_index(name='count')\n",
        "grouped_by_weather = grouped_by_weather.sort_values(by='count', ascending=False)\n",
        "\n",
        "plot_bar(data=grouped_by_weather,\n",
        "         x='weather_description',\n",
        "         y='count',\n",
        "         color='weather_description',\n",
        "         text='count',\n",
        "         title='Distribuição de tipos de Tempo por dia',\n",
        "         subtitle='O Tempo predominante',\n",
        "         labels={'weather_description': 'Tempo', 'count': 'Quantidade'},\n",
        "         color_discrete_sequence=[BLUE_HIGHLIGHT] + [LIGHT_GRAY] * (len(grouped_by_weather['weather_description']) - 1)\n",
        "         )"
      ],
      "metadata": {
        "colab": {
          "base_uri": "https://localhost:8080/",
          "height": 542
        },
        "id": "Ekcg7S-xgR5G",
        "outputId": "2649e42d-6fa9-4566-90d8-abf8b3afb961"
      },
      "execution_count": 94,
      "outputs": [
        {
          "output_type": "display_data",
          "data": {
            "text/html": [
              "<html>\n",
              "<head><meta charset=\"utf-8\" /></head>\n",
              "<body>\n",
              "    <div>            <script src=\"https://cdnjs.cloudflare.com/ajax/libs/mathjax/2.7.5/MathJax.js?config=TeX-AMS-MML_SVG\"></script><script type=\"text/javascript\">if (window.MathJax && window.MathJax.Hub && window.MathJax.Hub.Config) {window.MathJax.Hub.Config({SVG: {font: \"STIX-Web\"}});}</script>                <script type=\"text/javascript\">window.PlotlyConfig = {MathJaxConfig: 'local'};</script>\n",
              "        <script charset=\"utf-8\" src=\"https://cdn.plot.ly/plotly-2.24.1.min.js\"></script>                <div id=\"13a68483-ce47-498c-b8a9-61bab787d8ea\" class=\"plotly-graph-div\" style=\"height:525px; width:1080px;\"></div>            <script type=\"text/javascript\">                                    window.PLOTLYENV=window.PLOTLYENV || {};                                    if (document.getElementById(\"13a68483-ce47-498c-b8a9-61bab787d8ea\")) {                    Plotly.newPlot(                        \"13a68483-ce47-498c-b8a9-61bab787d8ea\",                        [{\"alignmentgroup\":\"True\",\"hovertemplate\":\"Tempo=%{x}\\u003cbr\\u003eQuantidade=%{text}\\u003cextra\\u003e\\u003c\\u002fextra\\u003e\",\"legendgroup\":\"Light Drizzle\",\"marker\":{\"color\":\"#3d87ff\",\"pattern\":{\"shape\":\"\"}},\"name\":\"Light Drizzle\",\"offsetgroup\":\"Light Drizzle\",\"orientation\":\"v\",\"showlegend\":false,\"text\":[55.0],\"textposition\":\"outside\",\"x\":[\"Light Drizzle\"],\"xaxis\":\"x\",\"y\":[55],\"yaxis\":\"y\",\"type\":\"bar\"},{\"alignmentgroup\":\"True\",\"hovertemplate\":\"Tempo=%{x}\\u003cbr\\u003eQuantidade=%{text}\\u003cextra\\u003e\\u003c\\u002fextra\\u003e\",\"legendgroup\":\"Mainly Sunny\",\"marker\":{\"color\":\"#9b9b9b\",\"pattern\":{\"shape\":\"\"}},\"name\":\"Mainly Sunny\",\"offsetgroup\":\"Mainly Sunny\",\"orientation\":\"v\",\"showlegend\":false,\"text\":[35.0],\"textposition\":\"outside\",\"x\":[\"Mainly Sunny\"],\"xaxis\":\"x\",\"y\":[35],\"yaxis\":\"y\",\"type\":\"bar\"},{\"alignmentgroup\":\"True\",\"hovertemplate\":\"Tempo=%{x}\\u003cbr\\u003eQuantidade=%{text}\\u003cextra\\u003e\\u003c\\u002fextra\\u003e\",\"legendgroup\":\"Cloudy\",\"marker\":{\"color\":\"#9b9b9b\",\"pattern\":{\"shape\":\"\"}},\"name\":\"Cloudy\",\"offsetgroup\":\"Cloudy\",\"orientation\":\"v\",\"showlegend\":false,\"text\":[26.0],\"textposition\":\"outside\",\"x\":[\"Cloudy\"],\"xaxis\":\"x\",\"y\":[26],\"yaxis\":\"y\",\"type\":\"bar\"},{\"alignmentgroup\":\"True\",\"hovertemplate\":\"Tempo=%{x}\\u003cbr\\u003eQuantidade=%{text}\\u003cextra\\u003e\\u003c\\u002fextra\\u003e\",\"legendgroup\":\"Drizzle\",\"marker\":{\"color\":\"#9b9b9b\",\"pattern\":{\"shape\":\"\"}},\"name\":\"Drizzle\",\"offsetgroup\":\"Drizzle\",\"orientation\":\"v\",\"showlegend\":false,\"text\":[24.0],\"textposition\":\"outside\",\"x\":[\"Drizzle\"],\"xaxis\":\"x\",\"y\":[24],\"yaxis\":\"y\",\"type\":\"bar\"},{\"alignmentgroup\":\"True\",\"hovertemplate\":\"Tempo=%{x}\\u003cbr\\u003eQuantidade=%{text}\\u003cextra\\u003e\\u003c\\u002fextra\\u003e\",\"legendgroup\":\"Sunny\",\"marker\":{\"color\":\"#9b9b9b\",\"pattern\":{\"shape\":\"\"}},\"name\":\"Sunny\",\"offsetgroup\":\"Sunny\",\"orientation\":\"v\",\"showlegend\":false,\"text\":[24.0],\"textposition\":\"outside\",\"x\":[\"Sunny\"],\"xaxis\":\"x\",\"y\":[24],\"yaxis\":\"y\",\"type\":\"bar\"},{\"alignmentgroup\":\"True\",\"hovertemplate\":\"Tempo=%{x}\\u003cbr\\u003eQuantidade=%{text}\\u003cextra\\u003e\\u003c\\u002fextra\\u003e\",\"legendgroup\":\"Rain\",\"marker\":{\"color\":\"#9b9b9b\",\"pattern\":{\"shape\":\"\"}},\"name\":\"Rain\",\"offsetgroup\":\"Rain\",\"orientation\":\"v\",\"showlegend\":false,\"text\":[21.0],\"textposition\":\"outside\",\"x\":[\"Rain\"],\"xaxis\":\"x\",\"y\":[21],\"yaxis\":\"y\",\"type\":\"bar\"},{\"alignmentgroup\":\"True\",\"hovertemplate\":\"Tempo=%{x}\\u003cbr\\u003eQuantidade=%{text}\\u003cextra\\u003e\\u003c\\u002fextra\\u003e\",\"legendgroup\":\"Light Rain\",\"marker\":{\"color\":\"#9b9b9b\",\"pattern\":{\"shape\":\"\"}},\"name\":\"Light Rain\",\"offsetgroup\":\"Light Rain\",\"orientation\":\"v\",\"showlegend\":false,\"text\":[11.0],\"textposition\":\"outside\",\"x\":[\"Light Rain\"],\"xaxis\":\"x\",\"y\":[11],\"yaxis\":\"y\",\"type\":\"bar\"},{\"alignmentgroup\":\"True\",\"hovertemplate\":\"Tempo=%{x}\\u003cbr\\u003eQuantidade=%{text}\\u003cextra\\u003e\\u003c\\u002fextra\\u003e\",\"legendgroup\":\"Partly Cloudy\",\"marker\":{\"color\":\"#9b9b9b\",\"pattern\":{\"shape\":\"\"}},\"name\":\"Partly Cloudy\",\"offsetgroup\":\"Partly Cloudy\",\"orientation\":\"v\",\"showlegend\":false,\"text\":[9.0],\"textposition\":\"outside\",\"x\":[\"Partly Cloudy\"],\"xaxis\":\"x\",\"y\":[9],\"yaxis\":\"y\",\"type\":\"bar\"},{\"alignmentgroup\":\"True\",\"hovertemplate\":\"Tempo=%{x}\\u003cbr\\u003eQuantidade=%{text}\\u003cextra\\u003e\\u003c\\u002fextra\\u003e\",\"legendgroup\":\"Heavy Drizzle\",\"marker\":{\"color\":\"#9b9b9b\",\"pattern\":{\"shape\":\"\"}},\"name\":\"Heavy Drizzle\",\"offsetgroup\":\"Heavy Drizzle\",\"orientation\":\"v\",\"showlegend\":false,\"text\":[5.0],\"textposition\":\"outside\",\"x\":[\"Heavy Drizzle\"],\"xaxis\":\"x\",\"y\":[5],\"yaxis\":\"y\",\"type\":\"bar\"},{\"alignmentgroup\":\"True\",\"hovertemplate\":\"Tempo=%{x}\\u003cbr\\u003eQuantidade=%{text}\\u003cextra\\u003e\\u003c\\u002fextra\\u003e\",\"legendgroup\":\"Heavy Rain\",\"marker\":{\"color\":\"#9b9b9b\",\"pattern\":{\"shape\":\"\"}},\"name\":\"Heavy Rain\",\"offsetgroup\":\"Heavy Rain\",\"orientation\":\"v\",\"showlegend\":false,\"text\":[4.0],\"textposition\":\"outside\",\"x\":[\"Heavy Rain\"],\"xaxis\":\"x\",\"y\":[4],\"yaxis\":\"y\",\"type\":\"bar\"}],                        {\"template\":{\"data\":{\"histogram2dcontour\":[{\"type\":\"histogram2dcontour\",\"colorbar\":{\"outlinewidth\":0,\"ticks\":\"\"},\"colorscale\":[[0.0,\"#0d0887\"],[0.1111111111111111,\"#46039f\"],[0.2222222222222222,\"#7201a8\"],[0.3333333333333333,\"#9c179e\"],[0.4444444444444444,\"#bd3786\"],[0.5555555555555556,\"#d8576b\"],[0.6666666666666666,\"#ed7953\"],[0.7777777777777778,\"#fb9f3a\"],[0.8888888888888888,\"#fdca26\"],[1.0,\"#f0f921\"]]}],\"choropleth\":[{\"type\":\"choropleth\",\"colorbar\":{\"outlinewidth\":0,\"ticks\":\"\"}}],\"histogram2d\":[{\"type\":\"histogram2d\",\"colorbar\":{\"outlinewidth\":0,\"ticks\":\"\"},\"colorscale\":[[0.0,\"#0d0887\"],[0.1111111111111111,\"#46039f\"],[0.2222222222222222,\"#7201a8\"],[0.3333333333333333,\"#9c179e\"],[0.4444444444444444,\"#bd3786\"],[0.5555555555555556,\"#d8576b\"],[0.6666666666666666,\"#ed7953\"],[0.7777777777777778,\"#fb9f3a\"],[0.8888888888888888,\"#fdca26\"],[1.0,\"#f0f921\"]]}],\"heatmap\":[{\"type\":\"heatmap\",\"colorbar\":{\"outlinewidth\":0,\"ticks\":\"\"},\"colorscale\":[[0.0,\"#0d0887\"],[0.1111111111111111,\"#46039f\"],[0.2222222222222222,\"#7201a8\"],[0.3333333333333333,\"#9c179e\"],[0.4444444444444444,\"#bd3786\"],[0.5555555555555556,\"#d8576b\"],[0.6666666666666666,\"#ed7953\"],[0.7777777777777778,\"#fb9f3a\"],[0.8888888888888888,\"#fdca26\"],[1.0,\"#f0f921\"]]}],\"heatmapgl\":[{\"type\":\"heatmapgl\",\"colorbar\":{\"outlinewidth\":0,\"ticks\":\"\"},\"colorscale\":[[0.0,\"#0d0887\"],[0.1111111111111111,\"#46039f\"],[0.2222222222222222,\"#7201a8\"],[0.3333333333333333,\"#9c179e\"],[0.4444444444444444,\"#bd3786\"],[0.5555555555555556,\"#d8576b\"],[0.6666666666666666,\"#ed7953\"],[0.7777777777777778,\"#fb9f3a\"],[0.8888888888888888,\"#fdca26\"],[1.0,\"#f0f921\"]]}],\"contourcarpet\":[{\"type\":\"contourcarpet\",\"colorbar\":{\"outlinewidth\":0,\"ticks\":\"\"}}],\"contour\":[{\"type\":\"contour\",\"colorbar\":{\"outlinewidth\":0,\"ticks\":\"\"},\"colorscale\":[[0.0,\"#0d0887\"],[0.1111111111111111,\"#46039f\"],[0.2222222222222222,\"#7201a8\"],[0.3333333333333333,\"#9c179e\"],[0.4444444444444444,\"#bd3786\"],[0.5555555555555556,\"#d8576b\"],[0.6666666666666666,\"#ed7953\"],[0.7777777777777778,\"#fb9f3a\"],[0.8888888888888888,\"#fdca26\"],[1.0,\"#f0f921\"]]}],\"surface\":[{\"type\":\"surface\",\"colorbar\":{\"outlinewidth\":0,\"ticks\":\"\"},\"colorscale\":[[0.0,\"#0d0887\"],[0.1111111111111111,\"#46039f\"],[0.2222222222222222,\"#7201a8\"],[0.3333333333333333,\"#9c179e\"],[0.4444444444444444,\"#bd3786\"],[0.5555555555555556,\"#d8576b\"],[0.6666666666666666,\"#ed7953\"],[0.7777777777777778,\"#fb9f3a\"],[0.8888888888888888,\"#fdca26\"],[1.0,\"#f0f921\"]]}],\"mesh3d\":[{\"type\":\"mesh3d\",\"colorbar\":{\"outlinewidth\":0,\"ticks\":\"\"}}],\"scatter\":[{\"fillpattern\":{\"fillmode\":\"overlay\",\"size\":10,\"solidity\":0.2},\"type\":\"scatter\"}],\"parcoords\":[{\"type\":\"parcoords\",\"line\":{\"colorbar\":{\"outlinewidth\":0,\"ticks\":\"\"}}}],\"scatterpolargl\":[{\"type\":\"scatterpolargl\",\"marker\":{\"colorbar\":{\"outlinewidth\":0,\"ticks\":\"\"}}}],\"bar\":[{\"error_x\":{\"color\":\"#2a3f5f\"},\"error_y\":{\"color\":\"#2a3f5f\"},\"marker\":{\"line\":{\"color\":\"#E5ECF6\",\"width\":0.5},\"pattern\":{\"fillmode\":\"overlay\",\"size\":10,\"solidity\":0.2}},\"type\":\"bar\"}],\"scattergeo\":[{\"type\":\"scattergeo\",\"marker\":{\"colorbar\":{\"outlinewidth\":0,\"ticks\":\"\"}}}],\"scatterpolar\":[{\"type\":\"scatterpolar\",\"marker\":{\"colorbar\":{\"outlinewidth\":0,\"ticks\":\"\"}}}],\"histogram\":[{\"marker\":{\"pattern\":{\"fillmode\":\"overlay\",\"size\":10,\"solidity\":0.2}},\"type\":\"histogram\"}],\"scattergl\":[{\"type\":\"scattergl\",\"marker\":{\"colorbar\":{\"outlinewidth\":0,\"ticks\":\"\"}}}],\"scatter3d\":[{\"type\":\"scatter3d\",\"line\":{\"colorbar\":{\"outlinewidth\":0,\"ticks\":\"\"}},\"marker\":{\"colorbar\":{\"outlinewidth\":0,\"ticks\":\"\"}}}],\"scattermapbox\":[{\"type\":\"scattermapbox\",\"marker\":{\"colorbar\":{\"outlinewidth\":0,\"ticks\":\"\"}}}],\"scatterternary\":[{\"type\":\"scatterternary\",\"marker\":{\"colorbar\":{\"outlinewidth\":0,\"ticks\":\"\"}}}],\"scattercarpet\":[{\"type\":\"scattercarpet\",\"marker\":{\"colorbar\":{\"outlinewidth\":0,\"ticks\":\"\"}}}],\"carpet\":[{\"aaxis\":{\"endlinecolor\":\"#2a3f5f\",\"gridcolor\":\"white\",\"linecolor\":\"white\",\"minorgridcolor\":\"white\",\"startlinecolor\":\"#2a3f5f\"},\"baxis\":{\"endlinecolor\":\"#2a3f5f\",\"gridcolor\":\"white\",\"linecolor\":\"white\",\"minorgridcolor\":\"white\",\"startlinecolor\":\"#2a3f5f\"},\"type\":\"carpet\"}],\"table\":[{\"cells\":{\"fill\":{\"color\":\"#EBF0F8\"},\"line\":{\"color\":\"white\"}},\"header\":{\"fill\":{\"color\":\"#C8D4E3\"},\"line\":{\"color\":\"white\"}},\"type\":\"table\"}],\"barpolar\":[{\"marker\":{\"line\":{\"color\":\"#E5ECF6\",\"width\":0.5},\"pattern\":{\"fillmode\":\"overlay\",\"size\":10,\"solidity\":0.2}},\"type\":\"barpolar\"}],\"pie\":[{\"automargin\":true,\"type\":\"pie\"}]},\"layout\":{\"autotypenumbers\":\"strict\",\"colorway\":[\"#636efa\",\"#EF553B\",\"#00cc96\",\"#ab63fa\",\"#FFA15A\",\"#19d3f3\",\"#FF6692\",\"#B6E880\",\"#FF97FF\",\"#FECB52\"],\"font\":{\"color\":\"#2a3f5f\"},\"hovermode\":\"closest\",\"hoverlabel\":{\"align\":\"left\"},\"paper_bgcolor\":\"white\",\"plot_bgcolor\":\"#E5ECF6\",\"polar\":{\"bgcolor\":\"#E5ECF6\",\"angularaxis\":{\"gridcolor\":\"white\",\"linecolor\":\"white\",\"ticks\":\"\"},\"radialaxis\":{\"gridcolor\":\"white\",\"linecolor\":\"white\",\"ticks\":\"\"}},\"ternary\":{\"bgcolor\":\"#E5ECF6\",\"aaxis\":{\"gridcolor\":\"white\",\"linecolor\":\"white\",\"ticks\":\"\"},\"baxis\":{\"gridcolor\":\"white\",\"linecolor\":\"white\",\"ticks\":\"\"},\"caxis\":{\"gridcolor\":\"white\",\"linecolor\":\"white\",\"ticks\":\"\"}},\"coloraxis\":{\"colorbar\":{\"outlinewidth\":0,\"ticks\":\"\"}},\"colorscale\":{\"sequential\":[[0.0,\"#0d0887\"],[0.1111111111111111,\"#46039f\"],[0.2222222222222222,\"#7201a8\"],[0.3333333333333333,\"#9c179e\"],[0.4444444444444444,\"#bd3786\"],[0.5555555555555556,\"#d8576b\"],[0.6666666666666666,\"#ed7953\"],[0.7777777777777778,\"#fb9f3a\"],[0.8888888888888888,\"#fdca26\"],[1.0,\"#f0f921\"]],\"sequentialminus\":[[0.0,\"#0d0887\"],[0.1111111111111111,\"#46039f\"],[0.2222222222222222,\"#7201a8\"],[0.3333333333333333,\"#9c179e\"],[0.4444444444444444,\"#bd3786\"],[0.5555555555555556,\"#d8576b\"],[0.6666666666666666,\"#ed7953\"],[0.7777777777777778,\"#fb9f3a\"],[0.8888888888888888,\"#fdca26\"],[1.0,\"#f0f921\"]],\"diverging\":[[0,\"#8e0152\"],[0.1,\"#c51b7d\"],[0.2,\"#de77ae\"],[0.3,\"#f1b6da\"],[0.4,\"#fde0ef\"],[0.5,\"#f7f7f7\"],[0.6,\"#e6f5d0\"],[0.7,\"#b8e186\"],[0.8,\"#7fbc41\"],[0.9,\"#4d9221\"],[1,\"#276419\"]]},\"xaxis\":{\"gridcolor\":\"white\",\"linecolor\":\"white\",\"ticks\":\"\",\"title\":{\"standoff\":15},\"zerolinecolor\":\"white\",\"automargin\":true,\"zerolinewidth\":2},\"yaxis\":{\"gridcolor\":\"white\",\"linecolor\":\"white\",\"ticks\":\"\",\"title\":{\"standoff\":15},\"zerolinecolor\":\"white\",\"automargin\":true,\"zerolinewidth\":2},\"scene\":{\"xaxis\":{\"backgroundcolor\":\"#E5ECF6\",\"gridcolor\":\"white\",\"linecolor\":\"white\",\"showbackground\":true,\"ticks\":\"\",\"zerolinecolor\":\"white\",\"gridwidth\":2},\"yaxis\":{\"backgroundcolor\":\"#E5ECF6\",\"gridcolor\":\"white\",\"linecolor\":\"white\",\"showbackground\":true,\"ticks\":\"\",\"zerolinecolor\":\"white\",\"gridwidth\":2},\"zaxis\":{\"backgroundcolor\":\"#E5ECF6\",\"gridcolor\":\"white\",\"linecolor\":\"white\",\"showbackground\":true,\"ticks\":\"\",\"zerolinecolor\":\"white\",\"gridwidth\":2}},\"shapedefaults\":{\"line\":{\"color\":\"#2a3f5f\"}},\"annotationdefaults\":{\"arrowcolor\":\"#2a3f5f\",\"arrowhead\":0,\"arrowwidth\":1},\"geo\":{\"bgcolor\":\"white\",\"landcolor\":\"#E5ECF6\",\"subunitcolor\":\"white\",\"showland\":true,\"showlakes\":true,\"lakecolor\":\"white\"},\"title\":{\"x\":0.05},\"mapbox\":{\"style\":\"light\"}}},\"xaxis\":{\"anchor\":\"y\",\"domain\":[0.0,1.0],\"title\":{\"text\":\"Tempo\"},\"categoryorder\":\"array\",\"categoryarray\":[\"Light Drizzle\",\"Mainly Sunny\",\"Cloudy\",\"Drizzle\",\"Sunny\",\"Rain\",\"Light Rain\",\"Partly Cloudy\",\"Heavy Drizzle\",\"Heavy Rain\"]},\"yaxis\":{\"anchor\":\"x\",\"domain\":[0.0,1.0],\"title\":{\"text\":\"Quantidade\"}},\"legend\":{\"title\":{\"text\":\"Tempo\"},\"tracegroupgap\":0},\"title\":{\"text\":\"Distribui\\u00e7\\u00e3o de tipos de Tempo por dia \\u003cbr\\u003e\\u003csup\\u003e\\u003c\\u002fsup\\u003e\"},\"barmode\":\"relative\",\"width\":1080,\"bargap\":0.2},                        {\"responsive\": true}                    ).then(function(){\n",
              "                            \n",
              "var gd = document.getElementById('13a68483-ce47-498c-b8a9-61bab787d8ea');\n",
              "var x = new MutationObserver(function (mutations, observer) {{\n",
              "        var display = window.getComputedStyle(gd).display;\n",
              "        if (!display || display === 'none') {{\n",
              "            console.log([gd, 'removed!']);\n",
              "            Plotly.purge(gd);\n",
              "            observer.disconnect();\n",
              "        }}\n",
              "}});\n",
              "\n",
              "// Listen for the removal of the full notebook cells\n",
              "var notebookContainer = gd.closest('#notebook-container');\n",
              "if (notebookContainer) {{\n",
              "    x.observe(notebookContainer, {childList: true});\n",
              "}}\n",
              "\n",
              "// Listen for the clearing of the current output cell\n",
              "var outputEl = gd.closest('.output');\n",
              "if (outputEl) {{\n",
              "    x.observe(outputEl, {childList: true});\n",
              "}}\n",
              "\n",
              "                        })                };                            </script>        </div>\n",
              "</body>\n",
              "</html>"
            ]
          },
          "metadata": {}
        }
      ]
    }
  ]
}